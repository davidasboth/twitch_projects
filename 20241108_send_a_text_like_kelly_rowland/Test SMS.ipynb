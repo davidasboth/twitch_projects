{
 "cells": [
  {
   "cell_type": "markdown",
   "id": "53226ca4-bf1a-4f64-93dc-4eb60321af64",
   "metadata": {},
   "source": [
    "# Testing sending a text\n",
    "\n",
    "Example from API docs at: [`https://api.thesmsworks.co.uk/docs/api-reference.html#tag/Messages/paths/~1message~1send/post`](https://api.thesmsworks.co.uk/docs/api-reference.html#tag/Messages/paths/~1message~1send/post)\n",
    "\n",
    "Instructions:\n",
    "\n",
    "- sign up for the service (The SMS Works)\n",
    "- create a JWT (token) and put it in `JWT.txt`\n",
    "- put your phone number in `phone_number.txt`\n",
    "- Run the code below!\n",
    "\n",
    "## Setup\n",
    "\n",
    "Supply message and sender here:"
   ]
  },
  {
   "cell_type": "code",
   "execution_count": 2,
   "id": "650fa2f2-d633-4ccc-82f3-03a0a7ec7237",
   "metadata": {},
   "outputs": [],
   "source": [
    "SENDER = \"KellyR\"\n",
    "MESSAGE = \"WHERE YOU AT? HOLLA WHEN YOU GET THIS\"\n",
    "\n",
    "JWT = \"\"\n",
    "with open(\"JWT.txt\", \"r\") as f:\n",
    "    JWT = f.read()\n",
    "\n",
    "NUMBER = \"\"\n",
    "with open(\"phone_number.txt\", \"r\") as f:\n",
    "    NUMBER = f.read()"
   ]
  },
  {
   "cell_type": "markdown",
   "id": "5a9c3834-3d2d-4a87-a3d1-1cf3190402fc",
   "metadata": {},
   "source": [
    "Code to send the text:"
   ]
  },
  {
   "cell_type": "code",
   "execution_count": 3,
   "id": "21c1da18-e769-4c4f-9e79-5bf4c5a57f66",
   "metadata": {},
   "outputs": [
    {
     "name": "stdout",
     "output_type": "stream",
     "text": [
      "{\"messageid\":\"4312492786874335230787\",\"status\":\"SENT\",\"credits\":48,\"creditsUsed\":1,\"messageparts\":1,\"metadata\":{}}\n"
     ]
    }
   ],
   "source": [
    "import http.client\n",
    "import json\n",
    "\n",
    "conn = http.client.HTTPSConnection(\"api.thesmsworks.co.uk\")\n",
    "\n",
    "payload = json.dumps({\n",
    "  \"sender\": SENDER,\n",
    "  \"destination\": NUMBER,\n",
    "  \"content\": MESSAGE\n",
    "})\n",
    "\n",
    "headers = {\n",
    "  'Content-Type': 'application/json',\n",
    "  'Authorization': JWT\n",
    "}\n",
    "\n",
    "conn.request(\"POST\", \"/v1/message/send\", payload, headers)\n",
    "\n",
    "res = conn.getresponse()\n",
    "\n",
    "data = res.read()\n",
    "\n",
    "print(data.decode(\"utf-8\"))"
   ]
  }
 ],
 "metadata": {
  "kernelspec": {
   "display_name": "Python 3 (ipykernel)",
   "language": "python",
   "name": "python3"
  },
  "language_info": {
   "codemirror_mode": {
    "name": "ipython",
    "version": 3
   },
   "file_extension": ".py",
   "mimetype": "text/x-python",
   "name": "python",
   "nbconvert_exporter": "python",
   "pygments_lexer": "ipython3",
   "version": "3.12.7"
  }
 },
 "nbformat": 4,
 "nbformat_minor": 5
}
