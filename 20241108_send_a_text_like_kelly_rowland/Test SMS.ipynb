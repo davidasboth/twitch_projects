{
 "cells": [
  {
   "cell_type": "code",
   "execution_count": 1,
   "id": "21c1da18-e769-4c4f-9e79-5bf4c5a57f66",
   "metadata": {},
   "outputs": [
    {
     "name": "stdout",
     "output_type": "stream",
     "text": [
      "{\"status\":\"error\",\"errorCode\":4021,\"message\":\"You have insufficient credits (0) to send this message. 1 credits are required. Cannot send message.\",\"permanent\":true}\n"
     ]
    }
   ],
   "source": [
    "import http.client\n",
    "import json\n",
    "\n",
    "JWT = \"\"\n",
    "with open(\"JWT.txt\", \"r\") as f:\n",
    "    JWT = f.read()\n",
    "\n",
    "NUMBER = \"\"\n",
    "with open(\"phone_number.txt\", \"r\") as f:\n",
    "    NUMBER = f.read()\n",
    "\n",
    "conn = http.client.HTTPSConnection(\"api.thesmsworks.co.uk\")\n",
    "\n",
    "payload = json.dumps({\n",
    "  \"sender\": \"KellyR\",\n",
    "  \"destination\": NUMBER,\n",
    "  \"content\": \"WHERE YOU AT? HOLLA WHEN YOU GET THIS\"\n",
    "})\n",
    "\n",
    "headers = {\n",
    "  'Content-Type': 'application/json',\n",
    "  'Authorization': JWT\n",
    "}\n",
    "\n",
    "conn.request(\"POST\", \"/v1/message/send\", payload, headers)\n",
    "\n",
    "res = conn.getresponse()\n",
    "\n",
    "data = res.read()\n",
    "\n",
    "print(data.decode(\"utf-8\"))"
   ]
  }
 ],
 "metadata": {
  "kernelspec": {
   "display_name": "Python 3 (ipykernel)",
   "language": "python",
   "name": "python3"
  },
  "language_info": {
   "codemirror_mode": {
    "name": "ipython",
    "version": 3
   },
   "file_extension": ".py",
   "mimetype": "text/x-python",
   "name": "python",
   "nbconvert_exporter": "python",
   "pygments_lexer": "ipython3",
   "version": "3.12.7"
  }
 },
 "nbformat": 4,
 "nbformat_minor": 5
}
