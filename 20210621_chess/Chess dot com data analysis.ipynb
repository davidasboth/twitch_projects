{
 "cells": [
  {
   "cell_type": "markdown",
   "metadata": {},
   "source": [
    "# Chess data\n",
    "\n",
    "Analysis of my own games from chess.com. Data obtained using their in-built download (into a single text file)\n",
    "\n",
    "## Part 1: data extraction"
   ]
  },
  {
   "cell_type": "code",
   "execution_count": 1,
   "metadata": {},
   "outputs": [],
   "source": [
    "import pandas as pd"
   ]
  },
  {
   "cell_type": "code",
   "execution_count": 2,
   "metadata": {},
   "outputs": [],
   "source": [
    "lines = []\n",
    "\n",
    "with open(\"chess_com_games_2021-06-21.pgn\", \"r\") as f:\n",
    "    lines = f.read()"
   ]
  },
  {
   "cell_type": "markdown",
   "metadata": {},
   "source": [
    "Assume each record starts with `[Event` and use that as a separator"
   ]
  },
  {
   "cell_type": "code",
   "execution_count": 3,
   "metadata": {},
   "outputs": [
    {
     "data": {
      "text/plain": [
       "46"
      ]
     },
     "execution_count": 3,
     "metadata": {},
     "output_type": "execute_result"
    }
   ],
   "source": [
    "# first one will be an empty string, ignore that\n",
    "raw_games = lines.split(\"[Event\")[1:]\n",
    "len(raw_games)"
   ]
  },
  {
   "cell_type": "markdown",
   "metadata": {},
   "source": [
    "Create a function to take a raw game string, and extract the metadata into a dictionary.\n",
    "\n",
    "First, it will split each game by new lines into their separate meta-tags."
   ]
  },
  {
   "cell_type": "code",
   "execution_count": 4,
   "metadata": {},
   "outputs": [],
   "source": [
    "def extract_game_info(game):\n",
    "\n",
    "    # separate the list of metadata attributes from the list of moves\n",
    "    metadata = [section for section in game.split(\"\\n\\n\") if section != \"\"]\n",
    "\n",
    "    assert(len(metadata) == 2)\n",
    "\n",
    "    # save them into separate variables\n",
    "    columns_string, moves_string = metadata\n",
    "\n",
    "    # make the metadata columns into a list\n",
    "    columns = columns_string.split(\"\\n\")\n",
    "\n",
    "    # get rid of first meta-tag as it's the incomplete event name\n",
    "    del columns[0]\n",
    "    \n",
    "    # keep track of metadata in a dictionary\n",
    "    game_dict = {}\n",
    "\n",
    "    # loop through the tags\n",
    "    for column in columns:\n",
    "        # identify where the first space is\n",
    "        first_space = column.index(\" \")\n",
    "\n",
    "        # what's to the left of the first space is the column name\n",
    "        # (exclude the first square bracket)\n",
    "        column_name = column[1:first_space]\n",
    "\n",
    "        # to the right is the column value (exclude the final square bracket)\n",
    "        column_value = column[first_space+1:-1]\n",
    "\n",
    "        # get rid of double quotes\n",
    "        column_value = column_value.replace('\"', '')\n",
    "\n",
    "        # add a value to the dictionary\n",
    "        game_dict[column_name] = column_value\n",
    "\n",
    "    # add the entire list of moves to the dictionary\n",
    "    game_dict[\"Moves\"] = moves_string\n",
    "    \n",
    "    return game_dict"
   ]
  },
  {
   "cell_type": "markdown",
   "metadata": {},
   "source": [
    "Test the function"
   ]
  },
  {
   "cell_type": "code",
   "execution_count": 5,
   "metadata": {},
   "outputs": [
    {
     "data": {
      "text/plain": [
       "{'Site': 'Chess.com',\n",
       " 'Date': '2017.10.18',\n",
       " 'Round': '-',\n",
       " 'White': 'agrazi',\n",
       " 'Black': 'abcdave',\n",
       " 'Result': '0-1',\n",
       " 'WhiteElo': '1206',\n",
       " 'BlackElo': '1494',\n",
       " 'TimeControl': '1/432000',\n",
       " 'EndDate': '2017.12.03',\n",
       " 'Termination': 'abcdave won by checkmate',\n",
       " 'Moves': '1. e4 c5 2. d4 cxd4 3. Qxd4 Nc6 4. Qc5 e5 5. Qd5 Nf6 6. Qb5 Nxe4 7. Bd3 Nd6 8.\\nQd5 Qf6 9. Nh3 Nb4 10. Qb3 Nxd3+ 11. Qxd3 e4 12. Qc3 Qg6 13. O-O Be7 14. Nf4 Qf6\\n15. Nd5 Qxc3 16. bxc3 Rb8 17. Bf4 b6 18. Nc7+ Kd8 19. Nd5 g5 20. Be5 Bb7 21. Ne3\\nf6 22. Bd4 Rc8 23. Nd2 Rf8 24. g4 Nb5 25. c4 Nxd4 26. Rae1 Bb4 27. Nb3 Bxe1 28.\\nNxd4 Bd2 29. Nef5 Rxc4 30. Nb5 Rxc2 31. Nxa7 Rxa2 32. Nb5 Ba6 33. Nbd6 Bxf1 34.\\nKxf1 Bf4 35. Nxe4 Bxh2 36. Ng7 b5 37. Nc3 Ra1+ 38. Kg2 b4 39. Nf5 bxc3 40. Kxh2\\nc2 41. Ne3 c1=Q 42. Kg3 Ra3 43. Kg2 Rh8 44. Nf1 Ra1 45. Ng3 h5 46. gxh5 Rxh5 47.\\nNxh5 Qh1+ 48. Kg3 Rg1# 0-1'}"
      ]
     },
     "execution_count": 5,
     "metadata": {},
     "output_type": "execute_result"
    }
   ],
   "source": [
    "game = raw_games[1]\n",
    "extract_game_info(game)"
   ]
  },
  {
   "cell_type": "markdown",
   "metadata": {},
   "source": [
    "Apply the function and create a DataFrame"
   ]
  },
  {
   "cell_type": "code",
   "execution_count": 6,
   "metadata": {},
   "outputs": [
    {
     "data": {
      "text/html": [
       "<div>\n",
       "<style scoped>\n",
       "    .dataframe tbody tr th:only-of-type {\n",
       "        vertical-align: middle;\n",
       "    }\n",
       "\n",
       "    .dataframe tbody tr th {\n",
       "        vertical-align: top;\n",
       "    }\n",
       "\n",
       "    .dataframe thead th {\n",
       "        text-align: right;\n",
       "    }\n",
       "</style>\n",
       "<table border=\"1\" class=\"dataframe\">\n",
       "  <thead>\n",
       "    <tr style=\"text-align: right;\">\n",
       "      <th></th>\n",
       "      <th>Site</th>\n",
       "      <th>Date</th>\n",
       "      <th>Round</th>\n",
       "      <th>White</th>\n",
       "      <th>Black</th>\n",
       "      <th>Result</th>\n",
       "      <th>WhiteElo</th>\n",
       "      <th>BlackElo</th>\n",
       "      <th>TimeControl</th>\n",
       "      <th>EndDate</th>\n",
       "      <th>Termination</th>\n",
       "      <th>Moves</th>\n",
       "      <th>Variant</th>\n",
       "      <th>SetUp</th>\n",
       "      <th>FEN</th>\n",
       "    </tr>\n",
       "  </thead>\n",
       "  <tbody>\n",
       "    <tr>\n",
       "      <th>0</th>\n",
       "      <td>Chess.com</td>\n",
       "      <td>2017.10.18</td>\n",
       "      <td>-</td>\n",
       "      <td>abcdave</td>\n",
       "      <td>utopa</td>\n",
       "      <td>1-0</td>\n",
       "      <td>1400</td>\n",
       "      <td>800</td>\n",
       "      <td>1/604800</td>\n",
       "      <td>2017.10.26</td>\n",
       "      <td>abcdave won on time</td>\n",
       "      <td>1. e4 e5 2. Nf3 d6 3. Nc3 1-0</td>\n",
       "      <td>NaN</td>\n",
       "      <td>NaN</td>\n",
       "      <td>NaN</td>\n",
       "    </tr>\n",
       "    <tr>\n",
       "      <th>1</th>\n",
       "      <td>Chess.com</td>\n",
       "      <td>2017.10.18</td>\n",
       "      <td>-</td>\n",
       "      <td>agrazi</td>\n",
       "      <td>abcdave</td>\n",
       "      <td>0-1</td>\n",
       "      <td>1206</td>\n",
       "      <td>1494</td>\n",
       "      <td>1/432000</td>\n",
       "      <td>2017.12.03</td>\n",
       "      <td>abcdave won by checkmate</td>\n",
       "      <td>1. e4 c5 2. d4 cxd4 3. Qxd4 Nc6 4. Qc5 e5 5. Q...</td>\n",
       "      <td>NaN</td>\n",
       "      <td>NaN</td>\n",
       "      <td>NaN</td>\n",
       "    </tr>\n",
       "    <tr>\n",
       "      <th>2</th>\n",
       "      <td>Chess.com</td>\n",
       "      <td>2017.11.07</td>\n",
       "      <td>-</td>\n",
       "      <td>abcdave</td>\n",
       "      <td>hetverschil</td>\n",
       "      <td>0-1</td>\n",
       "      <td>1335</td>\n",
       "      <td>1384</td>\n",
       "      <td>1/432000</td>\n",
       "      <td>2017.12.17</td>\n",
       "      <td>hetverschil won by resignation</td>\n",
       "      <td>1. e4 e5 2. Nf3 Nc6 3. Bc4 Bc5 4. O-O Nf6 5. d...</td>\n",
       "      <td>NaN</td>\n",
       "      <td>NaN</td>\n",
       "      <td>NaN</td>\n",
       "    </tr>\n",
       "    <tr>\n",
       "      <th>3</th>\n",
       "      <td>Chess.com</td>\n",
       "      <td>2017.12.04</td>\n",
       "      <td>-</td>\n",
       "      <td>abcdave</td>\n",
       "      <td>agrazi</td>\n",
       "      <td>1-0</td>\n",
       "      <td>1394</td>\n",
       "      <td>1191</td>\n",
       "      <td>1/172800</td>\n",
       "      <td>2017.12.27</td>\n",
       "      <td>abcdave won by resignation</td>\n",
       "      <td>1. e4 e5 2. f4 exf4 3. Nf3 d6 4. d4 Bd7 5. Bxf...</td>\n",
       "      <td>NaN</td>\n",
       "      <td>NaN</td>\n",
       "      <td>NaN</td>\n",
       "    </tr>\n",
       "    <tr>\n",
       "      <th>4</th>\n",
       "      <td>Chess.com</td>\n",
       "      <td>2017.12.28</td>\n",
       "      <td>-</td>\n",
       "      <td>agrazi</td>\n",
       "      <td>abcdave</td>\n",
       "      <td>0-1</td>\n",
       "      <td>1179</td>\n",
       "      <td>1431</td>\n",
       "      <td>1/172800</td>\n",
       "      <td>2018.01.08</td>\n",
       "      <td>abcdave won by resignation</td>\n",
       "      <td>1. e4 e5 2. d3 Nf6 3. Be3 c6 4. Nf3 d6 5. Be2 ...</td>\n",
       "      <td>NaN</td>\n",
       "      <td>NaN</td>\n",
       "      <td>NaN</td>\n",
       "    </tr>\n",
       "  </tbody>\n",
       "</table>\n",
       "</div>"
      ],
      "text/plain": [
       "        Site        Date Round    White        Black Result WhiteElo BlackElo  \\\n",
       "0  Chess.com  2017.10.18     -  abcdave        utopa    1-0     1400      800   \n",
       "1  Chess.com  2017.10.18     -   agrazi      abcdave    0-1     1206     1494   \n",
       "2  Chess.com  2017.11.07     -  abcdave  hetverschil    0-1     1335     1384   \n",
       "3  Chess.com  2017.12.04     -  abcdave       agrazi    1-0     1394     1191   \n",
       "4  Chess.com  2017.12.28     -   agrazi      abcdave    0-1     1179     1431   \n",
       "\n",
       "  TimeControl     EndDate                     Termination  \\\n",
       "0    1/604800  2017.10.26             abcdave won on time   \n",
       "1    1/432000  2017.12.03        abcdave won by checkmate   \n",
       "2    1/432000  2017.12.17  hetverschil won by resignation   \n",
       "3    1/172800  2017.12.27      abcdave won by resignation   \n",
       "4    1/172800  2018.01.08      abcdave won by resignation   \n",
       "\n",
       "                                               Moves Variant SetUp  FEN  \n",
       "0                      1. e4 e5 2. Nf3 d6 3. Nc3 1-0     NaN   NaN  NaN  \n",
       "1  1. e4 c5 2. d4 cxd4 3. Qxd4 Nc6 4. Qc5 e5 5. Q...     NaN   NaN  NaN  \n",
       "2  1. e4 e5 2. Nf3 Nc6 3. Bc4 Bc5 4. O-O Nf6 5. d...     NaN   NaN  NaN  \n",
       "3  1. e4 e5 2. f4 exf4 3. Nf3 d6 4. d4 Bd7 5. Bxf...     NaN   NaN  NaN  \n",
       "4  1. e4 e5 2. d3 Nf6 3. Be3 c6 4. Nf3 d6 5. Be2 ...     NaN   NaN  NaN  "
      ]
     },
     "execution_count": 6,
     "metadata": {},
     "output_type": "execute_result"
    }
   ],
   "source": [
    "game_dictionaries = [extract_game_info(game) for game in raw_games]\n",
    "\n",
    "df = pd.DataFrame(game_dictionaries)\n",
    "df.head()"
   ]
  },
  {
   "cell_type": "markdown",
   "metadata": {},
   "source": [
    "## Part 2: Analysis\n",
    "\n",
    "My research question is \"how do I perform within different opening systems?\"\n",
    "\n",
    "### But first: data cleaning!\n",
    "\n",
    "\"Variants\": NULLs are regular chess games, non-NULLs are different game modes (which we want to exclude)"
   ]
  },
  {
   "cell_type": "code",
   "execution_count": 8,
   "metadata": {},
   "outputs": [],
   "source": [
    "df = df[df[\"Variant\"].isnull()] # only keep NULLs!"
   ]
  },
  {
   "cell_type": "markdown",
   "metadata": {},
   "source": [
    "Any draws?"
   ]
  },
  {
   "cell_type": "code",
   "execution_count": 9,
   "metadata": {},
   "outputs": [
    {
     "data": {
      "text/plain": [
       "0-1        22\n",
       "1-0        21\n",
       "1/2-1/2     1\n",
       "Name: Result, dtype: int64"
      ]
     },
     "execution_count": 9,
     "metadata": {},
     "output_type": "execute_result"
    }
   ],
   "source": [
    "df[\"Result\"].value_counts()"
   ]
  },
  {
   "cell_type": "markdown",
   "metadata": {},
   "source": [
    "Create a \"did I win?\" column based on the result + the player names"
   ]
  },
  {
   "cell_type": "code",
   "execution_count": 12,
   "metadata": {},
   "outputs": [
    {
     "data": {
      "text/plain": [
       "True     27\n",
       "False    17\n",
       "Name: did_I_win, dtype: int64"
      ]
     },
     "execution_count": 12,
     "metadata": {},
     "output_type": "execute_result"
    }
   ],
   "source": [
    "# either white won and I was white, or black won and I was black\n",
    "df[\"did_I_win\"] = (\n",
    "        ((df[\"Result\"] == \"1-0\") & (df[\"White\"] == \"abcdave\"))\n",
    "        |\n",
    "        ((df[\"Result\"] == \"0-1\") & (df[\"Black\"] == \"abcdave\"))\n",
    ")\n",
    "\n",
    "df[\"did_I_win\"].value_counts(dropna=False)"
   ]
  },
  {
   "cell_type": "markdown",
   "metadata": {},
   "source": [
    "Create a \"which colour was I\" column"
   ]
  },
  {
   "cell_type": "code",
   "execution_count": 25,
   "metadata": {},
   "outputs": [
    {
     "data": {
      "text/plain": [
       "Black    20\n",
       "White    19\n",
       "Name: my_colour, dtype: int64"
      ]
     },
     "execution_count": 25,
     "metadata": {},
     "output_type": "execute_result"
    }
   ],
   "source": [
    "import numpy as np\n",
    "\n",
    "df[\"my_colour\"] = np.where(df[\"White\"] == \"abcdave\", \"White\", \"Black\")\n",
    "df[\"my_colour\"].value_counts(dropna=False)"
   ]
  },
  {
   "cell_type": "markdown",
   "metadata": {},
   "source": [
    "Remove games that ended due to timeout"
   ]
  },
  {
   "cell_type": "code",
   "execution_count": 16,
   "metadata": {},
   "outputs": [
    {
     "data": {
      "text/plain": [
       "True     22\n",
       "False    17\n",
       "Name: did_I_win, dtype: int64"
      ]
     },
     "execution_count": 16,
     "metadata": {},
     "output_type": "execute_result"
    }
   ],
   "source": [
    "df.drop(df[df[\"Termination\"].str.contains(\"on time\")].index, inplace=True)\n",
    "\n",
    "df[\"did_I_win\"].value_counts(dropna=False)"
   ]
  },
  {
   "cell_type": "markdown",
   "metadata": {},
   "source": [
    "### Analysis: openings\n",
    "\n",
    "Extract the first moves as a proxy for the opening.\n",
    "\n",
    "What I *really* want to know is the name of the opening system (e.g. Sicilian) but I don't currently have data for that, so we will use the first 2-4 moves as a proxy.\n",
    "\n",
    "Let's start with the single first move."
   ]
  },
  {
   "cell_type": "code",
   "execution_count": 24,
   "metadata": {},
   "outputs": [
    {
     "data": {
      "text/plain": [
       "e4    28\n",
       "d4     9\n",
       "c4     2\n",
       "Name: first_move, dtype: int64"
      ]
     },
     "execution_count": 24,
     "metadata": {},
     "output_type": "execute_result"
    }
   ],
   "source": [
    "df[\"first_move\"] = df[\"Moves\"].str.split(\" \").str[1]\n",
    "\n",
    "df[\"first_move\"].value_counts()"
   ]
  },
  {
   "cell_type": "markdown",
   "metadata": {},
   "source": [
    "What I want to do is look at my win percentage as white and black for different opening moves"
   ]
  },
  {
   "cell_type": "code",
   "execution_count": 45,
   "metadata": {},
   "outputs": [
    {
     "data": {
      "image/png": "[encoded data removed]",
      "text/plain": [
       "<Figure size 432x288 with 1 Axes>"
      ]
     },
     "metadata": {
      "needs_background": "light"
     },
     "output_type": "display_data"
    }
   ],
   "source": [
    "import matplotlib.pyplot as plt\n",
    "\n",
    "fig, ax = plt.subplots()\n",
    "\n",
    "(\n",
    "    (df.groupby([\"first_move\", \"my_colour\"]) # separate bars for black and white\n",
    "     [\"did_I_win\"].mean() * 100) # multiply by 100 for convenience\n",
    "    .unstack() # shape data so matplotlib is happy\n",
    "    .plot.bar(ax=ax,\n",
    "              color=[\"black\", \"white\"] # add chess colours\n",
    "             )\n",
    ")\n",
    "\n",
    "ax.set(title=\"My win % for different first moves\",\n",
    "       xlabel=\"First move\",\n",
    "       ylabel=\"Win percentage\",\n",
    "       facecolor=\"#20adc7\")\n",
    "\n",
    "ax.legend().remove()\n",
    "\n",
    "ax.set_xticklabels(ax.get_xticklabels(), rotation=0)\n",
    "\n",
    "plt.show()"
   ]
  }
 ],
 "metadata": {
  "kernelspec": {
   "display_name": "Python 3",
   "language": "python",
   "name": "python3"
  },
  "language_info": {
   "codemirror_mode": {
    "name": "ipython",
    "version": 3
   },
   "file_extension": ".py",
   "mimetype": "text/x-python",
   "name": "python",
   "nbconvert_exporter": "python",
   "pygments_lexer": "ipython3",
   "version": "3.8.5"
  }
 },
 "nbformat": 4,
 "nbformat_minor": 4
}
