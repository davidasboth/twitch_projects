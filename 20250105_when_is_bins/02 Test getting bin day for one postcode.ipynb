{
 "cells": [
  {
   "cell_type": "code",
   "execution_count": 12,
   "metadata": {},
   "outputs": [],
   "source": [
    "import requests\n",
    "from bs4 import BeautifulSoup\n"
   ]
  },
  {
   "cell_type": "markdown",
   "metadata": {},
   "source": [
    "# Reverse engineering bin search\n",
    "\n",
    "https://www.cherwell.gov.uk/homepage/129/bin-collection-search\n",
    "\n",
    "## Part 1: Submit postcode, get back addresses\n",
    "\n",
    "Send a request to a PHP endpoint with a postcode to get back all addresses"
   ]
  },
  {
   "cell_type": "code",
   "execution_count": 9,
   "metadata": {},
   "outputs": [],
   "source": [
    "postcode = \"HP18 9UY\"\n",
    "\n",
    "postcode_lookup_url = (\n",
    "    \"https://forms.cherwell.gov.uk/site/custom_scripts/bartec_postcode_lookup.php\"\n",
    ")\n",
    "\n",
    "postcode_lookup_response = requests.post(\n",
    "    postcode_lookup_url, data={\"postcode\": postcode.strip()}\n",
    ")\n",
    "\n",
    "postcode_lookup_response.raise_for_status()"
   ]
  },
  {
   "cell_type": "code",
   "execution_count": 10,
   "metadata": {},
   "outputs": [
    {
     "data": {
      "text/plain": [
       "[{'uprn': '10011888394',\n",
       "  'label': 'Oakcroft Farm, Street From Thame Road To Boarstall, Piddington, HP18 9UY'}]"
      ]
     },
     "execution_count": 10,
     "metadata": {},
     "output_type": "execute_result"
    }
   ],
   "source": [
    "addresses = postcode_lookup_response.json()\n",
    "addresses[:5]"
   ]
  },
  {
   "cell_type": "markdown",
   "metadata": {},
   "source": [
    "Test data:\n",
    "\n",
    "`OX16 9AA` is Tuesday\n",
    "\n",
    "`HP18 9UY` is Wednesday"
   ]
  },
  {
   "cell_type": "markdown",
   "metadata": {},
   "source": [
    "## Part 2: Submit address, get back bin day"
   ]
  },
  {
   "cell_type": "code",
   "execution_count": 11,
   "metadata": {},
   "outputs": [],
   "source": [
    "address_dict = addresses[0]\n",
    "uprn = address_dict[\"uprn\"]\n",
    "address = address_dict[\"label\"]\n",
    "\n",
    "bin_search_url = f\"https://www.cherwell.gov.uk/homepage/129/bin-collection-search?uprn={uprn}&address={address}\"\n",
    "\n",
    "bin_response = requests.get(bin_search_url)\n",
    "bin_response.raise_for_status()"
   ]
  },
  {
   "cell_type": "code",
   "execution_count": 15,
   "metadata": {},
   "outputs": [
    {
     "data": {
      "text/plain": [
       "'Wednesday'"
      ]
     },
     "execution_count": 15,
     "metadata": {},
     "output_type": "execute_result"
    }
   ],
   "source": [
    "bin_soup = BeautifulSoup(bin_response.text)\n",
    "day_tag = bin_soup.select(\".bin-collection-results__collection-day strong\")[0]\n",
    "bin_day = day_tag.text\n",
    "\n",
    "bin_day"
   ]
  }
 ],
 "metadata": {
  "kernelspec": {
   "display_name": ".venv",
   "language": "python",
   "name": "python3"
  },
  "language_info": {
   "codemirror_mode": {
    "name": "ipython",
    "version": 3
   },
   "file_extension": ".py",
   "mimetype": "text/x-python",
   "name": "python",
   "nbconvert_exporter": "python",
   "pygments_lexer": "ipython3",
   "version": "3.12.5"
  }
 },
 "nbformat": 4,
 "nbformat_minor": 2
}
