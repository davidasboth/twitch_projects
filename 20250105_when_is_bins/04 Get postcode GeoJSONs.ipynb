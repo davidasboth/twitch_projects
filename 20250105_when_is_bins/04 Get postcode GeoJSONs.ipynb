{
 "cells": [
  {
   "cell_type": "markdown",
   "metadata": {},
   "source": [
    "TODO: make sure we can get the right GeoJSON for a postcode"
   ]
  },
  {
   "cell_type": "code",
   "execution_count": 31,
   "metadata": {},
   "outputs": [],
   "source": [
    "import os\n",
    "import json"
   ]
  },
  {
   "cell_type": "code",
   "execution_count": 33,
   "metadata": {},
   "outputs": [],
   "source": [
    "postcode = \"OX16 9AA\"\n",
    "\n",
    "\n",
    "# find the right geojson file\n",
    "def find_postcode_file(postcode):\n",
    "    area = postcode.split()[0]\n",
    "    if os.path.exists(f\"./data/geojson/sectors/{area}\"):\n",
    "        sector = postcode[:-2]\n",
    "        sector_path = f\"./data/geojson/sectors/{area}/{sector}.geojson\"\n",
    "        if os.path.exists(sector_path):\n",
    "            return {\"postcode\": postcode, \"geojson_path\": sector_path}\n",
    "        return None\n",
    "    return None"
   ]
  },
  {
   "cell_type": "code",
   "execution_count": 27,
   "metadata": {},
   "outputs": [],
   "source": [
    "postcodes = []\n",
    "with open(\"./data/postcodes.txt\", \"r\") as f:\n",
    "    postcodes = f.read().split(\",\")"
   ]
  },
  {
   "cell_type": "markdown",
   "metadata": {},
   "source": [
    "Get all postcodes with an associated GeoJSON"
   ]
  },
  {
   "cell_type": "code",
   "execution_count": 34,
   "metadata": {},
   "outputs": [
    {
     "name": "stdout",
     "output_type": "stream",
     "text": [
      "9126\n",
      "6637\n"
     ]
    }
   ],
   "source": [
    "geocoded_postcodes = [find_postcode_file(p) for p in postcodes]\n",
    "print(len(geocoded_postcodes))\n",
    "geocoded_postcodes = [p for p in geocoded_postcodes if p]\n",
    "print(len(geocoded_postcodes))"
   ]
  },
  {
   "cell_type": "code",
   "execution_count": 35,
   "metadata": {},
   "outputs": [],
   "source": [
    "with open(\"./data/postcodes_to_paths.json\", \"w\") as f:\n",
    "    json.dump(geocoded_postcodes, f)"
   ]
  }
 ],
 "metadata": {
  "kernelspec": {
   "display_name": ".venv",
   "language": "python",
   "name": "python3"
  },
  "language_info": {
   "codemirror_mode": {
    "name": "ipython",
    "version": 3
   },
   "file_extension": ".py",
   "mimetype": "text/x-python",
   "name": "python",
   "nbconvert_exporter": "python",
   "pygments_lexer": "ipython3",
   "version": "3.12.5"
  }
 },
 "nbformat": 4,
 "nbformat_minor": 2
}
