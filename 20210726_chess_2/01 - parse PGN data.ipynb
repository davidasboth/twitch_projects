{
 "cells": [
  {
   "cell_type": "markdown",
   "metadata": {},
   "source": [
    "# Chess data\n",
    "\n",
    "Analysis of my own games from chess.com. Data obtained using their in-built download (into a single text file)\n",
    "\n",
    "## Part 1: data extraction\n",
    "\n",
    "Define a function to take in a single file (with multiple games) and return the associated DataFrame"
   ]
  },
  {
   "cell_type": "code",
   "execution_count": 6,
   "metadata": {},
   "outputs": [],
   "source": [
    "# Create a function to take a raw game string, and extract the metadata into a dictionary.\n",
    "# First, it will split each game by new lines into their separate meta-tags.\n",
    "\n",
    "def extract_game_info(game):\n",
    "\n",
    "    # separate the list of metadata attributes from the list of moves\n",
    "    metadata = [section for section in game.split(\"\\n\\n\") if section != \"\"]\n",
    "\n",
    "    assert(len(metadata) == 2)\n",
    "\n",
    "    # save them into separate variables\n",
    "    columns_string, moves_string = metadata\n",
    "\n",
    "    # make the metadata columns into a list\n",
    "    columns = columns_string.split(\"\\n\")\n",
    "\n",
    "    # get rid of first meta-tag as it's the incomplete event name\n",
    "    del columns[0]\n",
    "    \n",
    "    # keep track of metadata in a dictionary\n",
    "    game_dict = {}\n",
    "\n",
    "    # loop through the tags\n",
    "    for column in columns:\n",
    "        # identify where the first space is\n",
    "        first_space = column.index(\" \")\n",
    "\n",
    "        # what's to the left of the first space is the column name\n",
    "        # (exclude the first square bracket)\n",
    "        column_name = column[1:first_space]\n",
    "\n",
    "        # to the right is the column value (exclude the final square bracket)\n",
    "        column_value = column[first_space+1:-1]\n",
    "\n",
    "        # get rid of double quotes\n",
    "        column_value = column_value.replace('\"', '')\n",
    "\n",
    "        # add a value to the dictionary\n",
    "        game_dict[column_name] = column_value\n",
    "\n",
    "    # add the entire list of moves to the dictionary\n",
    "    game_dict[\"Moves\"] = moves_string\n",
    "    \n",
    "    return game_dict"
   ]
  },
  {
   "cell_type": "code",
   "execution_count": 7,
   "metadata": {},
   "outputs": [],
   "source": [
    "import pandas as pd\n",
    "\n",
    "def parse_pgn_file(filepath):\n",
    "    \n",
    "    lines = []\n",
    "\n",
    "    with open(filepath, \"r\") as f:\n",
    "        lines = f.read()\n",
    "    \n",
    "    # Assume each record starts with `[Event` and use that as a separator\n",
    "    \n",
    "    # first one will be an empty string, ignore that\n",
    "    raw_games = lines.split(\"[Event\")[1:]\n",
    "    \n",
    "    game_dictionaries = [extract_game_info(game) for game in raw_games]\n",
    "\n",
    "    df = pd.DataFrame(game_dictionaries)\n",
    "    \n",
    "    return df"
   ]
  },
  {
   "cell_type": "markdown",
   "metadata": {},
   "source": [
    "Run the function on all relevant files"
   ]
  },
  {
   "cell_type": "code",
   "execution_count": 8,
   "metadata": {},
   "outputs": [
    {
     "data": {
      "text/html": [
       "<div>\n",
       "<style scoped>\n",
       "    .dataframe tbody tr th:only-of-type {\n",
       "        vertical-align: middle;\n",
       "    }\n",
       "\n",
       "    .dataframe tbody tr th {\n",
       "        vertical-align: top;\n",
       "    }\n",
       "\n",
       "    .dataframe thead th {\n",
       "        text-align: right;\n",
       "    }\n",
       "</style>\n",
       "<table border=\"1\" class=\"dataframe\">\n",
       "  <thead>\n",
       "    <tr style=\"text-align: right;\">\n",
       "      <th></th>\n",
       "      <th>Site</th>\n",
       "      <th>Date</th>\n",
       "      <th>Round</th>\n",
       "      <th>White</th>\n",
       "      <th>Black</th>\n",
       "      <th>Result</th>\n",
       "      <th>WhiteElo</th>\n",
       "      <th>BlackElo</th>\n",
       "      <th>TimeControl</th>\n",
       "      <th>EndDate</th>\n",
       "      <th>Termination</th>\n",
       "      <th>Moves</th>\n",
       "      <th>Variant</th>\n",
       "      <th>SetUp</th>\n",
       "      <th>FEN</th>\n",
       "    </tr>\n",
       "  </thead>\n",
       "  <tbody>\n",
       "    <tr>\n",
       "      <th>0</th>\n",
       "      <td>Chess.com</td>\n",
       "      <td>2017.10.18</td>\n",
       "      <td>-</td>\n",
       "      <td>abcdave</td>\n",
       "      <td>utopa</td>\n",
       "      <td>1-0</td>\n",
       "      <td>1400</td>\n",
       "      <td>800</td>\n",
       "      <td>1/604800</td>\n",
       "      <td>2017.10.26</td>\n",
       "      <td>abcdave won on time</td>\n",
       "      <td>1. e4 e5 2. Nf3 d6 3. Nc3 1-0</td>\n",
       "      <td>NaN</td>\n",
       "      <td>NaN</td>\n",
       "      <td>NaN</td>\n",
       "    </tr>\n",
       "    <tr>\n",
       "      <th>1</th>\n",
       "      <td>Chess.com</td>\n",
       "      <td>2017.10.18</td>\n",
       "      <td>-</td>\n",
       "      <td>agrazi</td>\n",
       "      <td>abcdave</td>\n",
       "      <td>0-1</td>\n",
       "      <td>1206</td>\n",
       "      <td>1494</td>\n",
       "      <td>1/432000</td>\n",
       "      <td>2017.12.03</td>\n",
       "      <td>abcdave won by checkmate</td>\n",
       "      <td>1. e4 c5 2. d4 cxd4 3. Qxd4 Nc6 4. Qc5 e5 5. Q...</td>\n",
       "      <td>NaN</td>\n",
       "      <td>NaN</td>\n",
       "      <td>NaN</td>\n",
       "    </tr>\n",
       "    <tr>\n",
       "      <th>2</th>\n",
       "      <td>Chess.com</td>\n",
       "      <td>2017.11.07</td>\n",
       "      <td>-</td>\n",
       "      <td>abcdave</td>\n",
       "      <td>hetverschil</td>\n",
       "      <td>0-1</td>\n",
       "      <td>1335</td>\n",
       "      <td>1384</td>\n",
       "      <td>1/432000</td>\n",
       "      <td>2017.12.17</td>\n",
       "      <td>hetverschil won by resignation</td>\n",
       "      <td>1. e4 e5 2. Nf3 Nc6 3. Bc4 Bc5 4. O-O Nf6 5. d...</td>\n",
       "      <td>NaN</td>\n",
       "      <td>NaN</td>\n",
       "      <td>NaN</td>\n",
       "    </tr>\n",
       "    <tr>\n",
       "      <th>3</th>\n",
       "      <td>Chess.com</td>\n",
       "      <td>2017.12.04</td>\n",
       "      <td>-</td>\n",
       "      <td>abcdave</td>\n",
       "      <td>agrazi</td>\n",
       "      <td>1-0</td>\n",
       "      <td>1394</td>\n",
       "      <td>1191</td>\n",
       "      <td>1/172800</td>\n",
       "      <td>2017.12.27</td>\n",
       "      <td>abcdave won by resignation</td>\n",
       "      <td>1. e4 e5 2. f4 exf4 3. Nf3 d6 4. d4 Bd7 5. Bxf...</td>\n",
       "      <td>NaN</td>\n",
       "      <td>NaN</td>\n",
       "      <td>NaN</td>\n",
       "    </tr>\n",
       "    <tr>\n",
       "      <th>4</th>\n",
       "      <td>Chess.com</td>\n",
       "      <td>2017.12.28</td>\n",
       "      <td>-</td>\n",
       "      <td>agrazi</td>\n",
       "      <td>abcdave</td>\n",
       "      <td>0-1</td>\n",
       "      <td>1179</td>\n",
       "      <td>1431</td>\n",
       "      <td>1/172800</td>\n",
       "      <td>2018.01.08</td>\n",
       "      <td>abcdave won by resignation</td>\n",
       "      <td>1. e4 e5 2. d3 Nf6 3. Be3 c6 4. Nf3 d6 5. Be2 ...</td>\n",
       "      <td>NaN</td>\n",
       "      <td>NaN</td>\n",
       "      <td>NaN</td>\n",
       "    </tr>\n",
       "  </tbody>\n",
       "</table>\n",
       "</div>"
      ],
      "text/plain": [
       "        Site        Date Round    White        Black Result WhiteElo BlackElo  \\\n",
       "0  Chess.com  2017.10.18     -  abcdave        utopa    1-0     1400      800   \n",
       "1  Chess.com  2017.10.18     -   agrazi      abcdave    0-1     1206     1494   \n",
       "2  Chess.com  2017.11.07     -  abcdave  hetverschil    0-1     1335     1384   \n",
       "3  Chess.com  2017.12.04     -  abcdave       agrazi    1-0     1394     1191   \n",
       "4  Chess.com  2017.12.28     -   agrazi      abcdave    0-1     1179     1431   \n",
       "\n",
       "  TimeControl     EndDate                     Termination  \\\n",
       "0    1/604800  2017.10.26             abcdave won on time   \n",
       "1    1/432000  2017.12.03        abcdave won by checkmate   \n",
       "2    1/432000  2017.12.17  hetverschil won by resignation   \n",
       "3    1/172800  2017.12.27      abcdave won by resignation   \n",
       "4    1/172800  2018.01.08      abcdave won by resignation   \n",
       "\n",
       "                                               Moves Variant SetUp  FEN  \n",
       "0                      1. e4 e5 2. Nf3 d6 3. Nc3 1-0     NaN   NaN  NaN  \n",
       "1  1. e4 c5 2. d4 cxd4 3. Qxd4 Nc6 4. Qc5 e5 5. Q...     NaN   NaN  NaN  \n",
       "2  1. e4 e5 2. Nf3 Nc6 3. Bc4 Bc5 4. O-O Nf6 5. d...     NaN   NaN  NaN  \n",
       "3  1. e4 e5 2. f4 exf4 3. Nf3 d6 4. d4 Bd7 5. Bxf...     NaN   NaN  NaN  \n",
       "4  1. e4 e5 2. d3 Nf6 3. Be3 c6 4. Nf3 d6 5. Be2 ...     NaN   NaN  NaN  "
      ]
     },
     "execution_count": 8,
     "metadata": {},
     "output_type": "execute_result"
    }
   ],
   "source": [
    "import os\n",
    "\n",
    "dataframes = []\n",
    "\n",
    "# parse all PGN files in the data subfolder\n",
    "base_folder_path = \"./data\"\n",
    "\n",
    "for pgn_file in os.listdir(base_folder_path):\n",
    "    # for each PGN file get the associated DataFrame\n",
    "    pgn_file_path = os.path.join(base_folder_path, pgn_file)\n",
    "    pgn_dataframe = parse_pgn_file(pgn_file_path)\n",
    "    \n",
    "    # save it into our list for concatenation\n",
    "    dataframes.append(pgn_dataframe)\n",
    "\n",
    "all_games = pd.concat(dataframes, ignore_index=True)\n",
    "all_games.head()"
   ]
  },
  {
   "cell_type": "markdown",
   "metadata": {},
   "source": [
    "## Part 2: Cleaning\n",
    "\n",
    "My research question is \"how do I perform within different opening systems?\"\n",
    "\n",
    "### But first: data cleaning!\n",
    "\n",
    "\"Variants\": NULLs are regular chess games, non-NULLs are different game modes (which we want to exclude)"
   ]
  },
  {
   "cell_type": "code",
   "execution_count": 10,
   "metadata": {},
   "outputs": [],
   "source": [
    "all_games = all_games[all_games[\"Variant\"].isnull()] # only keep NULLs!"
   ]
  },
  {
   "cell_type": "markdown",
   "metadata": {},
   "source": [
    "Any draws?"
   ]
  },
  {
   "cell_type": "code",
   "execution_count": 11,
   "metadata": {},
   "outputs": [
    {
     "data": {
      "text/plain": [
       "1-0        29\n",
       "0-1        26\n",
       "1/2-1/2     1\n",
       "Name: Result, dtype: int64"
      ]
     },
     "execution_count": 11,
     "metadata": {},
     "output_type": "execute_result"
    }
   ],
   "source": [
    "all_games[\"Result\"].value_counts()"
   ]
  },
  {
   "cell_type": "markdown",
   "metadata": {},
   "source": [
    "Create a \"did I win?\" column based on the result + the player names"
   ]
  },
  {
   "cell_type": "code",
   "execution_count": 12,
   "metadata": {},
   "outputs": [
    {
     "data": {
      "text/plain": [
       "True     36\n",
       "False    20\n",
       "Name: did_I_win, dtype: int64"
      ]
     },
     "execution_count": 12,
     "metadata": {},
     "output_type": "execute_result"
    }
   ],
   "source": [
    "# either white won and I was white, or black won and I was black\n",
    "all_games[\"did_I_win\"] = (\n",
    "        ((all_games[\"Result\"] == \"1-0\") & (all_games[\"White\"] == \"abcdave\"))\n",
    "        |\n",
    "        ((all_games[\"Result\"] == \"0-1\") & (all_games[\"Black\"] == \"abcdave\"))\n",
    ")\n",
    "\n",
    "all_games[\"did_I_win\"].value_counts(dropna=False)"
   ]
  },
  {
   "cell_type": "markdown",
   "metadata": {},
   "source": [
    "Create a \"which colour was I\" column"
   ]
  },
  {
   "cell_type": "code",
   "execution_count": 13,
   "metadata": {},
   "outputs": [
    {
     "data": {
      "text/plain": [
       "White    29\n",
       "Black    27\n",
       "Name: my_colour, dtype: int64"
      ]
     },
     "execution_count": 13,
     "metadata": {},
     "output_type": "execute_result"
    }
   ],
   "source": [
    "import numpy as np\n",
    "\n",
    "all_games[\"my_colour\"] = np.where(all_games[\"White\"] == \"abcdave\", \"White\", \"Black\")\n",
    "all_games[\"my_colour\"].value_counts(dropna=False)"
   ]
  },
  {
   "cell_type": "markdown",
   "metadata": {},
   "source": [
    "Remove games that ended due to timeout"
   ]
  },
  {
   "cell_type": "code",
   "execution_count": 14,
   "metadata": {},
   "outputs": [
    {
     "data": {
      "text/plain": [
       "True     29\n",
       "False    20\n",
       "Name: did_I_win, dtype: int64"
      ]
     },
     "execution_count": 14,
     "metadata": {},
     "output_type": "execute_result"
    }
   ],
   "source": [
    "all_games.drop(all_games[all_games[\"Termination\"].str.contains(\"on time\")].index, inplace=True)\n",
    "\n",
    "all_games[\"did_I_win\"].value_counts(dropna=False)"
   ]
  },
  {
   "cell_type": "markdown",
   "metadata": {},
   "source": [
    "Export"
   ]
  },
  {
   "cell_type": "code",
   "execution_count": 15,
   "metadata": {},
   "outputs": [],
   "source": [
    "all_games.to_csv(\"pgn_games_parsed.csv\", index=False)"
   ]
  }
 ],
 "metadata": {
  "kernelspec": {
   "display_name": "Python 3",
   "language": "python",
   "name": "python3"
  },
  "language_info": {
   "codemirror_mode": {
    "name": "ipython",
    "version": 3
   },
   "file_extension": ".py",
   "mimetype": "text/x-python",
   "name": "python",
   "nbconvert_exporter": "python",
   "pygments_lexer": "ipython3",
   "version": "3.8.5"
  }
 },
 "nbformat": 4,
 "nbformat_minor": 4
}
