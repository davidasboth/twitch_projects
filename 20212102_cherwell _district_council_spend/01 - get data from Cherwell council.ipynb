{
 "cells": [
  {
   "cell_type": "markdown",
   "metadata": {},
   "source": [
    "# Cherwell council data analysis"
   ]
  },
  {
   "cell_type": "code",
   "execution_count": 1,
   "metadata": {},
   "outputs": [],
   "source": [
    "import requests"
   ]
  },
  {
   "cell_type": "code",
   "execution_count": 2,
   "metadata": {},
   "outputs": [],
   "source": [
    "req = requests.get(\"https://www.cherwell.gov.uk/downloads/download/348/open-data\")\n",
    "req.raise_for_status()"
   ]
  },
  {
   "cell_type": "markdown",
   "metadata": {},
   "source": [
    "Find `<a>` tags with class=\"download\""
   ]
  },
  {
   "cell_type": "code",
   "execution_count": 5,
   "metadata": {},
   "outputs": [],
   "source": [
    "from bs4 import BeautifulSoup\n",
    "\n",
    "soup = BeautifulSoup(req.text)"
   ]
  },
  {
   "cell_type": "code",
   "execution_count": 8,
   "metadata": {},
   "outputs": [
    {
     "data": {
      "text/plain": [
       "67"
      ]
     },
     "execution_count": 8,
     "metadata": {},
     "output_type": "execute_result"
    }
   ],
   "source": [
    "all_links = soup.select(\"a.download\")\n",
    "len(all_links)"
   ]
  },
  {
   "cell_type": "code",
   "execution_count": 10,
   "metadata": {},
   "outputs": [
    {
     "data": {
      "text/plain": [
       "'Spend Report August 2020File type: CSVSize: 92.91 KBDownload'"
      ]
     },
     "execution_count": 10,
     "metadata": {},
     "output_type": "execute_result"
    }
   ],
   "source": [
    "all_links[0].get_text()"
   ]
  },
  {
   "cell_type": "code",
   "execution_count": 12,
   "metadata": {},
   "outputs": [
    {
     "data": {
      "text/plain": [
       "45"
      ]
     },
     "execution_count": 12,
     "metadata": {},
     "output_type": "execute_result"
    }
   ],
   "source": [
    "spend_tags = [link for link in all_links if link.get_text().lower().startswith(\"spend\")]\n",
    "len(spend_tags)"
   ]
  },
  {
   "cell_type": "markdown",
   "metadata": {},
   "source": [
    "Test single file download"
   ]
  },
  {
   "cell_type": "code",
   "execution_count": 17,
   "metadata": {},
   "outputs": [],
   "source": [
    "tag = spend_tags[0]\n",
    "\n",
    "file_name = tag[\"href\"].split(\"/\")[-1]\n",
    "\n",
    "with open(file_name, 'wb') as f:\n",
    "    req = requests.get(tag[\"href\"])\n",
    "    req.raise_for_status()\n",
    "    f.write(req.content)"
   ]
  },
  {
   "cell_type": "markdown",
   "metadata": {},
   "source": [
    "For each CSV or XLS file, download it locally"
   ]
  },
  {
   "cell_type": "code",
   "execution_count": 18,
   "metadata": {
    "scrolled": true
   },
   "outputs": [
    {
     "name": "stdout",
     "output_type": "stream",
     "text": [
      "spend-report-august-2020.csv\n",
      "spend-report-july-2020.csv\n",
      "spending-report-june-2020.xls\n",
      "spending-report-may-2020.xls\n",
      "spending-report-april-2020.xls\n",
      "spending-report-march-2020.xls\n",
      "spend-report-february-2020.xls\n",
      "spend-report-january-2020.xls\n",
      "spend-report-december-2019.xls\n",
      "spend-report-november-2019.xls\n",
      "spending-report-september-to-october-2019.xls\n",
      "spending-report-june-to-august-2019.xls\n",
      "spending-report-may-19.xls\n",
      "spend-over-500-april-2019.xls\n",
      "spend-over-500-march-2019.xls\n",
      "spend-over-500-october-2018--february-2019.xlsx\n",
      "spend-over-500-september-2018.xlsx\n",
      "spend-over-500-august-2018.xls\n",
      "spend-over-500-july-2018.xls\n",
      "spend-over-500-june-2018.xls\n",
      "spend-over-500-may-2018.xls\n",
      "spend-over-500-april-2018.xls\n",
      "spend-over-500-march-2018.xls\n",
      "spend-over-500-february-2018.xls\n",
      "spend-over-500-january-2018.xls\n",
      "spend-over-500-december-2017.xls\n",
      "spend-over-500-november-2017.xls\n",
      "spend-over-500-october-2017.xls\n",
      "spend-over-500-april---september-2017.xls\n",
      "spend-over-500-february---march-2017.xls\n",
      "spend-over-500-january-2017.xlsx\n",
      "spend-over-500-march---december-2016.xls\n",
      "spend-over-500-february-2016.xls\n",
      "spend-over-500-january-2016.xls\n",
      "spend-over-500-december-2015.xls\n",
      "spend-over-500-november-2015.xls\n",
      "spend-over-500-october-2015.xls\n",
      "spend-over-500-september-2015.xls\n",
      "spend-over-500-august-2015.xls\n",
      "spend-over-500-july-2015.xls\n",
      "spend-over-500-april-to-june-2015-creditors.xls\n",
      "spend-over-500-apr-14-to-mar-15-creditors.xls\n",
      "spend-over-500-apr-13-to-oct13-expenses.xls\n",
      "spend-over-500-apr-13-to-feb-14-creditors.xls\n",
      "spend-over-500-apr-12---mar13-creditors.xls\n",
      "Done\n"
     ]
    }
   ],
   "source": [
    "for tag in spend_tags:\n",
    "    file_name = tag[\"href\"].split(\"/\")[-1]\n",
    "    print(file_name)\n",
    "\n",
    "    with open(file_name, 'wb') as f:\n",
    "        req = requests.get(tag[\"href\"])\n",
    "        req.raise_for_status()\n",
    "        f.write(req.content)\n",
    "\n",
    "print(\"Done\")"
   ]
  },
  {
   "cell_type": "markdown",
   "metadata": {},
   "source": [
    "Now read the files and put them into one big DataFrame"
   ]
  },
  {
   "cell_type": "code",
   "execution_count": 19,
   "metadata": {},
   "outputs": [],
   "source": [
    "import pandas as pd"
   ]
  },
  {
   "cell_type": "code",
   "execution_count": 24,
   "metadata": {},
   "outputs": [
    {
     "name": "stdout",
     "output_type": "stream",
     "text": [
      "Index(['Date', 'Transaction Number', 'Net Amount', 'Supplier Name',\n",
      "       'Service Label    ', 'Service Division Label', 'Organisational Unit',\n",
      "       'Expenditure Category', 'CIPFA Detailed Expenditure Type', 'Narrative'],\n",
      "      dtype='object')\n"
     ]
    }
   ],
   "source": [
    "df = pd.read_csv(\"data/spend-report-august-2020.csv\", encoding=\"latin-1\")\n",
    "\n",
    "print(df.columns)"
   ]
  },
  {
   "cell_type": "code",
   "execution_count": 30,
   "metadata": {},
   "outputs": [
    {
     "data": {
      "text/html": [
       "<div>\n",
       "<style scoped>\n",
       "    .dataframe tbody tr th:only-of-type {\n",
       "        vertical-align: middle;\n",
       "    }\n",
       "\n",
       "    .dataframe tbody tr th {\n",
       "        vertical-align: top;\n",
       "    }\n",
       "\n",
       "    .dataframe thead th {\n",
       "        text-align: right;\n",
       "    }\n",
       "</style>\n",
       "<table border=\"1\" class=\"dataframe\">\n",
       "  <thead>\n",
       "    <tr style=\"text-align: right;\">\n",
       "      <th></th>\n",
       "      <th>Date</th>\n",
       "      <th>Transaction Number</th>\n",
       "      <th>Net Amount</th>\n",
       "      <th>Supplier Name</th>\n",
       "      <th>Service Label</th>\n",
       "      <th>Service Division Label</th>\n",
       "      <th>Organisational Unit</th>\n",
       "      <th>Expenditure Category</th>\n",
       "      <th>CIPFA Detailed Expenditure Type</th>\n",
       "      <th>Narrative</th>\n",
       "    </tr>\n",
       "  </thead>\n",
       "  <tbody>\n",
       "    <tr>\n",
       "      <th>0</th>\n",
       "      <td>2019-06-03</td>\n",
       "      <td>C034360</td>\n",
       "      <td>500.00</td>\n",
       "      <td>Cotswolds Conservation Board</td>\n",
       "      <td>Strategy and Commissioning</td>\n",
       "      <td>Strategic Planning Economy</td>\n",
       "      <td>Development Management / Development Management</td>\n",
       "      <td>Pension Contribution - Employers</td>\n",
       "      <td>Employees</td>\n",
       "      <td>NaN</td>\n",
       "    </tr>\n",
       "    <tr>\n",
       "      <th>1</th>\n",
       "      <td>2019-06-03</td>\n",
       "      <td>C034366</td>\n",
       "      <td>10943.59</td>\n",
       "      <td>Atkins Ltd</td>\n",
       "      <td>Commercial Development Capital</td>\n",
       "      <td>Capital Regen and Housing</td>\n",
       "      <td>Regeneration &amp; Housing / Delivery Team</td>\n",
       "      <td>Contractors Capital Payments</td>\n",
       "      <td>Capital Works</td>\n",
       "      <td>Fairway Methodist Site \\t\\t\\t\\r\\n\\t\\t\\t\\r\\n 60...</td>\n",
       "    </tr>\n",
       "    <tr>\n",
       "      <th>2</th>\n",
       "      <td>2019-06-03</td>\n",
       "      <td>C034370</td>\n",
       "      <td>1915.30</td>\n",
       "      <td>New Recruits Professional Services Ltd</td>\n",
       "      <td>Operations and Delivery</td>\n",
       "      <td>Environmental Services</td>\n",
       "      <td>Environmental Services / Environmental Service...</td>\n",
       "      <td>Agency Staff</td>\n",
       "      <td>Employees</td>\n",
       "      <td>Annual Purchase order\\r\\nProvision of Agency S...</td>\n",
       "    </tr>\n",
       "    <tr>\n",
       "      <th>3</th>\n",
       "      <td>2019-06-03</td>\n",
       "      <td>C034383</td>\n",
       "      <td>2172.50</td>\n",
       "      <td>BRG Interim Solutions Ltd</td>\n",
       "      <td>Strategy and Commissioning</td>\n",
       "      <td>Development Management</td>\n",
       "      <td>Finance &amp; Procurement / Head of Finance &amp; Proc...</td>\n",
       "      <td>Agency Staff</td>\n",
       "      <td>Employees</td>\n",
       "      <td>REDACTED</td>\n",
       "    </tr>\n",
       "    <tr>\n",
       "      <th>4</th>\n",
       "      <td>2019-06-03</td>\n",
       "      <td>C034384</td>\n",
       "      <td>2478.65</td>\n",
       "      <td>New Recruits Professional Services Ltd</td>\n",
       "      <td>Operations and Delivery</td>\n",
       "      <td>Environmental Services</td>\n",
       "      <td>Environmental Services / Environmental Service...</td>\n",
       "      <td>Agency Staff</td>\n",
       "      <td>Employees</td>\n",
       "      <td>Annual Purchase order\\r\\nProvision of Agency S...</td>\n",
       "    </tr>\n",
       "  </tbody>\n",
       "</table>\n",
       "</div>"
      ],
      "text/plain": [
       "        Date Transaction Number  Net Amount  \\\n",
       "0 2019-06-03            C034360      500.00   \n",
       "1 2019-06-03            C034366    10943.59   \n",
       "2 2019-06-03            C034370     1915.30   \n",
       "3 2019-06-03            C034383     2172.50   \n",
       "4 2019-06-03            C034384     2478.65   \n",
       "\n",
       "                            Supplier Name                   Service Label  \\\n",
       "0            Cotswolds Conservation Board      Strategy and Commissioning   \n",
       "1                              Atkins Ltd  Commercial Development Capital   \n",
       "2  New Recruits Professional Services Ltd         Operations and Delivery   \n",
       "3               BRG Interim Solutions Ltd      Strategy and Commissioning   \n",
       "4  New Recruits Professional Services Ltd         Operations and Delivery   \n",
       "\n",
       "       Service Division Label  \\\n",
       "0  Strategic Planning Economy   \n",
       "1   Capital Regen and Housing   \n",
       "2      Environmental Services   \n",
       "3      Development Management   \n",
       "4      Environmental Services   \n",
       "\n",
       "                                 Organisational Unit  \\\n",
       "0    Development Management / Development Management   \n",
       "1             Regeneration & Housing / Delivery Team   \n",
       "2  Environmental Services / Environmental Service...   \n",
       "3  Finance & Procurement / Head of Finance & Proc...   \n",
       "4  Environmental Services / Environmental Service...   \n",
       "\n",
       "               Expenditure Category CIPFA Detailed Expenditure Type  \\\n",
       "0  Pension Contribution - Employers                       Employees   \n",
       "1      Contractors Capital Payments                   Capital Works   \n",
       "2                      Agency Staff                       Employees   \n",
       "3                      Agency Staff                       Employees   \n",
       "4                      Agency Staff                       Employees   \n",
       "\n",
       "                                           Narrative  \n",
       "0                                                NaN  \n",
       "1  Fairway Methodist Site \\t\\t\\t\\r\\n\\t\\t\\t\\r\\n 60...  \n",
       "2  Annual Purchase order\\r\\nProvision of Agency S...  \n",
       "3                                           REDACTED  \n",
       "4  Annual Purchase order\\r\\nProvision of Agency S...  "
      ]
     },
     "execution_count": 30,
     "metadata": {},
     "output_type": "execute_result"
    }
   ],
   "source": [
    "col_list = ['Date', 'Transaction Number', 'Net Amount', 'Supplier Name',\n",
    "            'Service Label', 'Service Division Label', 'Organisational Unit',\n",
    "            'Expenditure Category', 'CIPFA Detailed Expenditure Type', 'Narrative']\n",
    "\n",
    "filename = \"data/spending-report-june-to-august-2019.xls\"\n",
    "\n",
    "extension = filename.split(\".\")[-1]\n",
    "\n",
    "df = None\n",
    "\n",
    "# handle all file types nicely\n",
    "if extension == \"csv\":\n",
    "    df = pd.read_csv(filename, encoding=\"latin-1\")\n",
    "elif extension == \"xls\":\n",
    "    df = pd.read_excel(filename)\n",
    "elif extension == \"xlsx\":\n",
    "    df = pd.read_excel(filename, engine=\"pyopenxl\")\n",
    "else:\n",
    "    print(f\"How did we get here? {filename}\")\n",
    "\n",
    "# remove trailing spaces\n",
    "df.columns = [col.strip() for col in df.columns]\n",
    "    \n",
    "df = df[col_list]\n",
    "df.head()"
   ]
  },
  {
   "cell_type": "code",
   "execution_count": 36,
   "metadata": {
    "scrolled": true
   },
   "outputs": [
    {
     "name": "stdout",
     "output_type": "stream",
     "text": [
      "spend-over-500-apr-12---mar13-creditors.xls\n",
      "\tColumns not found, ignoring...\n",
      "spend-over-500-apr-13-to-feb-14-creditors.xls\n",
      "\tColumns not found, ignoring...\n",
      "spend-over-500-apr-13-to-oct13-expenses.xls\n",
      "\tColumns not found, ignoring...\n",
      "spend-over-500-apr-14-to-mar-15-creditors.xls\n",
      "\tColumns not found, ignoring...\n",
      "spend-over-500-april---september-2017.xls\n",
      "spend-over-500-april-2018.xls\n",
      "spend-over-500-april-2019.xls\n",
      "spend-over-500-april-to-june-2015-creditors.xls\n",
      "\tColumns not found, ignoring...\n",
      "spend-over-500-august-2015.xls\n",
      "\tColumns not found, ignoring...\n",
      "spend-over-500-august-2018.xls\n",
      "spend-over-500-december-2015.xls\n",
      "\tColumns not found, ignoring...\n",
      "spend-over-500-december-2017.xls\n",
      "spend-over-500-february---march-2017.xls\n",
      "spend-over-500-february-2016.xls\n",
      "\tColumns not found, ignoring...\n",
      "spend-over-500-february-2018.xls\n",
      "spend-over-500-january-2016.xls\n",
      "\tColumns not found, ignoring...\n",
      "spend-over-500-january-2017.xlsx\n",
      "spend-over-500-january-2018.xls\n",
      "spend-over-500-july-2015.xls\n",
      "\tColumns not found, ignoring...\n",
      "spend-over-500-july-2018.xls\n",
      "spend-over-500-june-2018.xls\n",
      "spend-over-500-march---december-2016.xls\n",
      "spend-over-500-march-2018.xls\n",
      "spend-over-500-march-2019.xls\n",
      "spend-over-500-may-2018.xls\n",
      "spend-over-500-november-2015.xls\n",
      "\tColumns not found, ignoring...\n",
      "spend-over-500-november-2017.xls\n",
      "spend-over-500-october-2015.xls\n",
      "\tColumns not found, ignoring...\n",
      "spend-over-500-october-2017.xls\n",
      "spend-over-500-october-2018--february-2019.xlsx\n",
      "spend-over-500-september-2015.xls\n",
      "\tColumns not found, ignoring...\n",
      "spend-over-500-september-2018.xlsx\n",
      "spend-report-august-2020.csv\n",
      "spend-report-december-2019.xls\n",
      "spend-report-february-2020.xls\n",
      "spend-report-january-2020.xls\n",
      "spend-report-july-2020.csv\n",
      "spend-report-november-2019.xls\n",
      "spending-report-april-2020.xls\n",
      "spending-report-june-2020.xls\n",
      "spending-report-june-to-august-2019.xls\n",
      "spending-report-march-2020.xls\n",
      "spending-report-may-19.xls\n",
      "spending-report-may-2020.xls\n",
      "spending-report-september-to-october-2019.xls\n",
      "Done\n"
     ]
    }
   ],
   "source": [
    "import os\n",
    "\n",
    "# assume everything has these columns somewhere (maybe in a different order)\n",
    "col_list = ['Date', 'Transaction Number', 'Net Amount', 'Supplier Name',\n",
    "            'Service Label', 'Service Division Label', 'Organisational Unit',\n",
    "            'Expenditure Category', 'CIPFA Detailed Expenditure Type', 'Narrative']\n",
    "\n",
    "all_files = os.listdir(\"data\")\n",
    "\n",
    "dataframes = []\n",
    "\n",
    "for filename in all_files:\n",
    "    print(filename)\n",
    "    filename = os.path.join(\"data\", filename)\n",
    "    extension = filename.split(\".\")[-1]\n",
    "\n",
    "    df = None\n",
    "\n",
    "    # handle all file types nicely\n",
    "    if extension == \"csv\":\n",
    "        df = pd.read_csv(filename, encoding=\"latin-1\")\n",
    "    elif extension == \"xls\":\n",
    "        df = pd.read_excel(filename)\n",
    "    elif extension == \"xlsx\":\n",
    "        df = pd.read_excel(filename, engine=\"openpyxl\")\n",
    "    else:\n",
    "        print(f\"How did we get here? {filename}\")\n",
    "\n",
    "    # remove trailing spaces\n",
    "    df.columns = [str(col).strip() for col in df.columns]\n",
    "\n",
    "    try:\n",
    "        # can we extract the columns as seen in the latest file?\n",
    "        df = df[col_list]\n",
    "        dataframes.append(df)\n",
    "    except:\n",
    "        # if not, ignore\n",
    "        print(\"\\tColumns not found, ignoring...\")\n",
    "        pass\n",
    "\n",
    "print(\"Done\")"
   ]
  },
  {
   "cell_type": "code",
   "execution_count": 37,
   "metadata": {},
   "outputs": [
    {
     "data": {
      "text/plain": [
       "32"
      ]
     },
     "execution_count": 37,
     "metadata": {},
     "output_type": "execute_result"
    }
   ],
   "source": [
    "len(dataframes)"
   ]
  },
  {
   "cell_type": "code",
   "execution_count": 38,
   "metadata": {},
   "outputs": [
    {
     "name": "stdout",
     "output_type": "stream",
     "text": [
      "(34817, 10)\n"
     ]
    },
    {
     "data": {
      "text/html": [
       "<div>\n",
       "<style scoped>\n",
       "    .dataframe tbody tr th:only-of-type {\n",
       "        vertical-align: middle;\n",
       "    }\n",
       "\n",
       "    .dataframe tbody tr th {\n",
       "        vertical-align: top;\n",
       "    }\n",
       "\n",
       "    .dataframe thead th {\n",
       "        text-align: right;\n",
       "    }\n",
       "</style>\n",
       "<table border=\"1\" class=\"dataframe\">\n",
       "  <thead>\n",
       "    <tr style=\"text-align: right;\">\n",
       "      <th></th>\n",
       "      <th>Date</th>\n",
       "      <th>Transaction Number</th>\n",
       "      <th>Net Amount</th>\n",
       "      <th>Supplier Name</th>\n",
       "      <th>Service Label</th>\n",
       "      <th>Service Division Label</th>\n",
       "      <th>Organisational Unit</th>\n",
       "      <th>Expenditure Category</th>\n",
       "      <th>CIPFA Detailed Expenditure Type</th>\n",
       "      <th>Narrative</th>\n",
       "    </tr>\n",
       "  </thead>\n",
       "  <tbody>\n",
       "    <tr>\n",
       "      <th>0</th>\n",
       "      <td>2017-04-06 00:00:00</td>\n",
       "      <td>C010219</td>\n",
       "      <td>2925.22</td>\n",
       "      <td>New Recruits Professional Services Ltd</td>\n",
       "      <td>Operations and Delivery</td>\n",
       "      <td>Environmental Services</td>\n",
       "      <td>Environmental Services</td>\n",
       "      <td>Agency Staff</td>\n",
       "      <td>Employees</td>\n",
       "      <td>Agency Staff W/C 20/03/17</td>\n",
       "    </tr>\n",
       "    <tr>\n",
       "      <th>1</th>\n",
       "      <td>2017-04-06 00:00:00</td>\n",
       "      <td>C010220</td>\n",
       "      <td>668.22</td>\n",
       "      <td>New Recruits Professional Services Ltd</td>\n",
       "      <td>Operations and Delivery</td>\n",
       "      <td>Environmental Services</td>\n",
       "      <td>Environmental Services</td>\n",
       "      <td>Agency Staff</td>\n",
       "      <td>Employees</td>\n",
       "      <td>Agency Staff W/C 20/03/17</td>\n",
       "    </tr>\n",
       "    <tr>\n",
       "      <th>2</th>\n",
       "      <td>2017-04-06 00:00:00</td>\n",
       "      <td>C009848</td>\n",
       "      <td>996.09</td>\n",
       "      <td>Heathrow Truck Centre Ltd</td>\n",
       "      <td>Operations and Delivery</td>\n",
       "      <td>Environmental Services</td>\n",
       "      <td>Finance &amp; Procurement</td>\n",
       "      <td>Vehicle Repair &amp; Maintenance</td>\n",
       "      <td>Transport Related Expenditure</td>\n",
       "      <td>Annual order for 2016-2017</td>\n",
       "    </tr>\n",
       "    <tr>\n",
       "      <th>3</th>\n",
       "      <td>2017-04-06 00:00:00</td>\n",
       "      <td>C009417</td>\n",
       "      <td>988.00</td>\n",
       "      <td>Shelter Training &amp; Publications</td>\n",
       "      <td>Commercial Development</td>\n",
       "      <td>Regeneration and Housing</td>\n",
       "      <td>Regeneration &amp; Housing</td>\n",
       "      <td>Training</td>\n",
       "      <td>Employees</td>\n",
       "      <td>Arrears Management: The impact of universal cr...</td>\n",
       "    </tr>\n",
       "    <tr>\n",
       "      <th>4</th>\n",
       "      <td>2017-04-06 00:00:00</td>\n",
       "      <td>C010288</td>\n",
       "      <td>2000.00</td>\n",
       "      <td>The Mill Arts Centre</td>\n",
       "      <td>Operations and Delivery</td>\n",
       "      <td>Community Services</td>\n",
       "      <td>Finance &amp; Procurement</td>\n",
       "      <td>Activities (workshop fees)</td>\n",
       "      <td>Supplies and Services</td>\n",
       "      <td>Arts for Older People</td>\n",
       "    </tr>\n",
       "  </tbody>\n",
       "</table>\n",
       "</div>"
      ],
      "text/plain": [
       "                  Date Transaction Number  Net Amount  \\\n",
       "0  2017-04-06 00:00:00            C010219     2925.22   \n",
       "1  2017-04-06 00:00:00            C010220      668.22   \n",
       "2  2017-04-06 00:00:00            C009848      996.09   \n",
       "3  2017-04-06 00:00:00            C009417      988.00   \n",
       "4  2017-04-06 00:00:00            C010288     2000.00   \n",
       "\n",
       "                            Supplier Name            Service Label  \\\n",
       "0  New Recruits Professional Services Ltd  Operations and Delivery   \n",
       "1  New Recruits Professional Services Ltd  Operations and Delivery   \n",
       "2               Heathrow Truck Centre Ltd  Operations and Delivery   \n",
       "3         Shelter Training & Publications   Commercial Development   \n",
       "4                    The Mill Arts Centre  Operations and Delivery   \n",
       "\n",
       "     Service Division Label     Organisational Unit  \\\n",
       "0    Environmental Services  Environmental Services   \n",
       "1    Environmental Services  Environmental Services   \n",
       "2    Environmental Services   Finance & Procurement   \n",
       "3  Regeneration and Housing  Regeneration & Housing   \n",
       "4        Community Services   Finance & Procurement   \n",
       "\n",
       "           Expenditure Category CIPFA Detailed Expenditure Type  \\\n",
       "0                  Agency Staff                       Employees   \n",
       "1                  Agency Staff                       Employees   \n",
       "2  Vehicle Repair & Maintenance   Transport Related Expenditure   \n",
       "3                      Training                       Employees   \n",
       "4    Activities (workshop fees)           Supplies and Services   \n",
       "\n",
       "                                           Narrative  \n",
       "0                          Agency Staff W/C 20/03/17  \n",
       "1                          Agency Staff W/C 20/03/17  \n",
       "2                         Annual order for 2016-2017  \n",
       "3  Arrears Management: The impact of universal cr...  \n",
       "4                              Arts for Older People  "
      ]
     },
     "execution_count": 38,
     "metadata": {},
     "output_type": "execute_result"
    }
   ],
   "source": [
    "df_all = pd.concat(dataframes, ignore_index=True)\n",
    "print(df_all.shape)\n",
    "df_all.head()"
   ]
  },
  {
   "cell_type": "code",
   "execution_count": 39,
   "metadata": {},
   "outputs": [],
   "source": [
    "df_all.to_csv(\"all_transactions.csv.gz\", index=False)"
   ]
  }
 ],
 "metadata": {
  "kernelspec": {
   "display_name": "Python 3",
   "language": "python",
   "name": "python3"
  },
  "language_info": {
   "codemirror_mode": {
    "name": "ipython",
    "version": 3
   },
   "file_extension": ".py",
   "mimetype": "text/x-python",
   "name": "python",
   "nbconvert_exporter": "python",
   "pygments_lexer": "ipython3",
   "version": "3.7.9"
  }
 },
 "nbformat": 4,
 "nbformat_minor": 4
}
