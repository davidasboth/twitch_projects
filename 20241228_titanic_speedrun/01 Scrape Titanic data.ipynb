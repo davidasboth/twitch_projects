{
 "cells": [
  {
   "cell_type": "code",
   "execution_count": 1,
   "metadata": {},
   "outputs": [],
   "source": [
    "from io import StringIO\n",
    "\n",
    "import pandas as pd\n",
    "import requests"
   ]
  },
  {
   "cell_type": "code",
   "execution_count": 2,
   "metadata": {},
   "outputs": [],
   "source": [
    "titanic_request = requests.get(\"https://titanicfacts.net/titanic-passenger-list\")\n",
    "titanic_request.raise_for_status()"
   ]
  },
  {
   "cell_type": "code",
   "execution_count": 3,
   "metadata": {},
   "outputs": [
    {
     "data": {
      "text/plain": [
       "3"
      ]
     },
     "execution_count": 3,
     "metadata": {},
     "output_type": "execute_result"
    }
   ],
   "source": [
    "tables = pd.read_html(StringIO(titanic_request.text), header=0)\n",
    "len(tables)"
   ]
  },
  {
   "cell_type": "code",
   "execution_count": 4,
   "metadata": {},
   "outputs": [],
   "source": [
    "passengers = pd.concat(tables, ignore_index=True)\n",
    "assert len(passengers) == sum(len(t) for t in tables)"
   ]
  },
  {
   "cell_type": "code",
   "execution_count": 5,
   "metadata": {},
   "outputs": [
    {
     "data": {
      "text/html": [
       "<div>\n",
       "<style scoped>\n",
       "    .dataframe tbody tr th:only-of-type {\n",
       "        vertical-align: middle;\n",
       "    }\n",
       "\n",
       "    .dataframe tbody tr th {\n",
       "        vertical-align: top;\n",
       "    }\n",
       "\n",
       "    .dataframe thead th {\n",
       "        text-align: right;\n",
       "    }\n",
       "</style>\n",
       "<table border=\"1\" class=\"dataframe\">\n",
       "  <thead>\n",
       "    <tr style=\"text-align: right;\">\n",
       "      <th></th>\n",
       "      <th>Surname</th>\n",
       "      <th>First Names</th>\n",
       "      <th>Age</th>\n",
       "      <th>Boarded</th>\n",
       "      <th>Survivor (S) or Victim (†)</th>\n",
       "      <th>name</th>\n",
       "    </tr>\n",
       "  </thead>\n",
       "  <tbody>\n",
       "    <tr>\n",
       "      <th>0</th>\n",
       "      <td>Allen</td>\n",
       "      <td>Miss Elisabeth Walton</td>\n",
       "      <td>29</td>\n",
       "      <td>Southampton</td>\n",
       "      <td>S</td>\n",
       "      <td>Allen, Miss Elisabeth Walton</td>\n",
       "    </tr>\n",
       "    <tr>\n",
       "      <th>1</th>\n",
       "      <td>Allison</td>\n",
       "      <td>Mr Hudson Joshua Creighton</td>\n",
       "      <td>30</td>\n",
       "      <td>Southampton</td>\n",
       "      <td>†</td>\n",
       "      <td>Allison, Mr Hudson Joshua Creighton</td>\n",
       "    </tr>\n",
       "    <tr>\n",
       "      <th>2</th>\n",
       "      <td>Allison</td>\n",
       "      <td>Mrs Bessie Waldo</td>\n",
       "      <td>25</td>\n",
       "      <td>Southampton</td>\n",
       "      <td>†</td>\n",
       "      <td>Allison, Mrs Bessie Waldo</td>\n",
       "    </tr>\n",
       "    <tr>\n",
       "      <th>3</th>\n",
       "      <td>Allison</td>\n",
       "      <td>Miss Helen Loraine</td>\n",
       "      <td>2</td>\n",
       "      <td>Southampton</td>\n",
       "      <td>†</td>\n",
       "      <td>Allison, Miss Helen Loraine</td>\n",
       "    </tr>\n",
       "    <tr>\n",
       "      <th>4</th>\n",
       "      <td>Allison</td>\n",
       "      <td>Master Hudson Trevor</td>\n",
       "      <td>11m</td>\n",
       "      <td>Southampton</td>\n",
       "      <td>S</td>\n",
       "      <td>Allison, Master Hudson Trevor</td>\n",
       "    </tr>\n",
       "  </tbody>\n",
       "</table>\n",
       "</div>"
      ],
      "text/plain": [
       "   Surname                 First Names  Age      Boarded  \\\n",
       "0    Allen       Miss Elisabeth Walton   29  Southampton   \n",
       "1  Allison  Mr Hudson Joshua Creighton   30  Southampton   \n",
       "2  Allison            Mrs Bessie Waldo   25  Southampton   \n",
       "3  Allison          Miss Helen Loraine    2  Southampton   \n",
       "4  Allison        Master Hudson Trevor  11m  Southampton   \n",
       "\n",
       "  Survivor (S) or Victim (†)                                 name  \n",
       "0                          S         Allen, Miss Elisabeth Walton  \n",
       "1                          †  Allison, Mr Hudson Joshua Creighton  \n",
       "2                          †            Allison, Mrs Bessie Waldo  \n",
       "3                          †          Allison, Miss Helen Loraine  \n",
       "4                          S        Allison, Master Hudson Trevor  "
      ]
     },
     "execution_count": 5,
     "metadata": {},
     "output_type": "execute_result"
    }
   ],
   "source": [
    "passengers[\"name\"] = passengers[\"Surname\"] + \", \" + passengers[\"First Names\"]\n",
    "passengers.head()"
   ]
  },
  {
   "cell_type": "code",
   "execution_count": 6,
   "metadata": {},
   "outputs": [],
   "source": [
    "passengers.to_parquet(\"./data/passengers.parquet\")"
   ]
  },
  {
   "cell_type": "code",
   "execution_count": 7,
   "metadata": {},
   "outputs": [
    {
     "data": {
      "text/html": [
       "<div>\n",
       "<style scoped>\n",
       "    .dataframe tbody tr th:only-of-type {\n",
       "        vertical-align: middle;\n",
       "    }\n",
       "\n",
       "    .dataframe tbody tr th {\n",
       "        vertical-align: top;\n",
       "    }\n",
       "\n",
       "    .dataframe thead th {\n",
       "        text-align: right;\n",
       "    }\n",
       "</style>\n",
       "<table border=\"1\" class=\"dataframe\">\n",
       "  <thead>\n",
       "    <tr style=\"text-align: right;\">\n",
       "      <th></th>\n",
       "      <th>Surname</th>\n",
       "      <th>First Names</th>\n",
       "      <th>Age</th>\n",
       "      <th>Boarded</th>\n",
       "      <th>Survivor (S) or Victim (†)</th>\n",
       "      <th>name</th>\n",
       "    </tr>\n",
       "  </thead>\n",
       "  <tbody>\n",
       "    <tr>\n",
       "      <th>692</th>\n",
       "      <td>Braund</td>\n",
       "      <td>Mr Owen Harris</td>\n",
       "      <td>22</td>\n",
       "      <td>Southampton</td>\n",
       "      <td>†</td>\n",
       "      <td>Braund, Mr Owen Harris</td>\n",
       "    </tr>\n",
       "  </tbody>\n",
       "</table>\n",
       "</div>"
      ],
      "text/plain": [
       "    Surname     First Names Age      Boarded Survivor (S) or Victim (†)  \\\n",
       "692  Braund  Mr Owen Harris  22  Southampton                          †   \n",
       "\n",
       "                       name  \n",
       "692  Braund, Mr Owen Harris  "
      ]
     },
     "execution_count": 7,
     "metadata": {},
     "output_type": "execute_result"
    }
   ],
   "source": [
    "passengers[passengers[\"name\"] == \"Braund, Mr Owen Harris\"]"
   ]
  },
  {
   "cell_type": "code",
   "execution_count": 8,
   "metadata": {},
   "outputs": [
    {
     "data": {
      "text/plain": [
       "False"
      ]
     },
     "execution_count": 8,
     "metadata": {},
     "output_type": "execute_result"
    }
   ],
   "source": [
    "def did_they_survive(name):\n",
    "    name = \"Braund, Mr. Owen Harris\"\n",
    "\n",
    "    # remove . character\n",
    "    name = name.replace(\".\", \"\")\n",
    "\n",
    "    # look up the person in the passenger data\n",
    "    passenger = passengers[passengers[\"name\"] == name]\n",
    "\n",
    "    survival = passenger[\"Survivor (S) or Victim (†)\"].values[0]\n",
    "\n",
    "    return survival == \"S\"\n",
    "\n",
    "\n",
    "did_they_survive(\"Braund, Mr. Owen Harris\")"
   ]
  },
  {
   "cell_type": "code",
   "execution_count": 14,
   "metadata": {},
   "outputs": [
    {
     "data": {
      "text/plain": [
       "'Braund, Mr Owen Harris'"
      ]
     },
     "execution_count": 14,
     "metadata": {},
     "output_type": "execute_result"
    }
   ],
   "source": [
    "from Levenshtein import distance\n",
    "\n",
    "\n",
    "def get_closest_match(name):\n",
    "    # Convert series to list and remove any non-string or empty values\n",
    "    valid_strings = passengers[\"name\"].dropna().astype(str).tolist()\n",
    "\n",
    "    if not valid_strings:\n",
    "        raise ValueError(\"Input series is empty or contains no valid strings\")\n",
    "\n",
    "    # Calculate distances for all strings\n",
    "    distances = [(s, distance(name, s)) for s in valid_strings]\n",
    "\n",
    "    # Find the string with minimum distance\n",
    "    closest_match = min(distances, key=lambda x: x[1])[0]\n",
    "\n",
    "    return closest_match\n",
    "\n",
    "\n",
    "get_closest_match(\"Braund, Mr. Owen Harris\")"
   ]
  },
  {
   "cell_type": "code",
   "execution_count": 10,
   "metadata": {},
   "outputs": [],
   "source": [
    "passengers.to_parquet(\"./data/passengers.parquet\")"
   ]
  }
 ],
 "metadata": {
  "kernelspec": {
   "display_name": ".venv",
   "language": "python",
   "name": "python3"
  },
  "language_info": {
   "codemirror_mode": {
    "name": "ipython",
    "version": 3
   },
   "file_extension": ".py",
   "mimetype": "text/x-python",
   "name": "python",
   "nbconvert_exporter": "python",
   "pygments_lexer": "ipython3",
   "version": "3.12.5"
  }
 },
 "nbformat": 4,
 "nbformat_minor": 2
}
