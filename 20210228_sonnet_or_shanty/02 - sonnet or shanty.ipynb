{
 "cells": [
  {
   "cell_type": "code",
   "execution_count": 1,
   "metadata": {},
   "outputs": [],
   "source": [
    "import pandas as pd"
   ]
  },
  {
   "cell_type": "code",
   "execution_count": 2,
   "metadata": {},
   "outputs": [
    {
     "data": {
      "text/html": [
       "<div>\n",
       "<style scoped>\n",
       "    .dataframe tbody tr th:only-of-type {\n",
       "        vertical-align: middle;\n",
       "    }\n",
       "\n",
       "    .dataframe tbody tr th {\n",
       "        vertical-align: top;\n",
       "    }\n",
       "\n",
       "    .dataframe thead th {\n",
       "        text-align: right;\n",
       "    }\n",
       "</style>\n",
       "<table border=\"1\" class=\"dataframe\">\n",
       "  <thead>\n",
       "    <tr style=\"text-align: right;\">\n",
       "      <th></th>\n",
       "      <th>text_type</th>\n",
       "      <th>text</th>\n",
       "    </tr>\n",
       "  </thead>\n",
       "  <tbody>\n",
       "    <tr>\n",
       "      <th>0</th>\n",
       "      <td>sonnet</td>\n",
       "      <td>\\r\\n  From fairest creatures we desire increas...</td>\n",
       "    </tr>\n",
       "    <tr>\n",
       "      <th>1</th>\n",
       "      <td>sonnet</td>\n",
       "      <td>\\r\\n  When forty winters shall besiege thy bro...</td>\n",
       "    </tr>\n",
       "    <tr>\n",
       "      <th>2</th>\n",
       "      <td>sonnet</td>\n",
       "      <td>\\r\\n  Look in thy glass and tell the face thou...</td>\n",
       "    </tr>\n",
       "    <tr>\n",
       "      <th>3</th>\n",
       "      <td>sonnet</td>\n",
       "      <td>\\r\\n  Unthrifty loveliness, why dost thou spen...</td>\n",
       "    </tr>\n",
       "    <tr>\n",
       "      <th>4</th>\n",
       "      <td>sonnet</td>\n",
       "      <td>\\r\\n  Those hours, that with gentle work did f...</td>\n",
       "    </tr>\n",
       "  </tbody>\n",
       "</table>\n",
       "</div>"
      ],
      "text/plain": [
       "  text_type                                               text\n",
       "0    sonnet  \\r\\n  From fairest creatures we desire increas...\n",
       "1    sonnet  \\r\\n  When forty winters shall besiege thy bro...\n",
       "2    sonnet  \\r\\n  Look in thy glass and tell the face thou...\n",
       "3    sonnet  \\r\\n  Unthrifty loveliness, why dost thou spen...\n",
       "4    sonnet  \\r\\n  Those hours, that with gentle work did f..."
      ]
     },
     "execution_count": 2,
     "metadata": {},
     "output_type": "execute_result"
    }
   ],
   "source": [
    "df = pd.read_csv(\"sonnet_or_shanty.csv.gz\")\n",
    "df.head()"
   ]
  },
  {
   "cell_type": "markdown",
   "metadata": {},
   "source": [
    "# Text cleaning"
   ]
  },
  {
   "cell_type": "code",
   "execution_count": 17,
   "metadata": {},
   "outputs": [
    {
     "data": {
      "text/html": [
       "<div>\n",
       "<style scoped>\n",
       "    .dataframe tbody tr th:only-of-type {\n",
       "        vertical-align: middle;\n",
       "    }\n",
       "\n",
       "    .dataframe tbody tr th {\n",
       "        vertical-align: top;\n",
       "    }\n",
       "\n",
       "    .dataframe thead th {\n",
       "        text-align: right;\n",
       "    }\n",
       "</style>\n",
       "<table border=\"1\" class=\"dataframe\">\n",
       "  <thead>\n",
       "    <tr style=\"text-align: right;\">\n",
       "      <th></th>\n",
       "      <th>text_type</th>\n",
       "      <th>text</th>\n",
       "      <th>text_cleaned</th>\n",
       "    </tr>\n",
       "  </thead>\n",
       "  <tbody>\n",
       "    <tr>\n",
       "      <th>0</th>\n",
       "      <td>sonnet</td>\n",
       "      <td>\\r\\n  From fairest creatures we desire increas...</td>\n",
       "      <td>From fairest creatures we desire increase,  Th...</td>\n",
       "    </tr>\n",
       "    <tr>\n",
       "      <th>1</th>\n",
       "      <td>sonnet</td>\n",
       "      <td>\\r\\n  When forty winters shall besiege thy bro...</td>\n",
       "      <td>When forty winters shall besiege thy brow,  An...</td>\n",
       "    </tr>\n",
       "    <tr>\n",
       "      <th>2</th>\n",
       "      <td>sonnet</td>\n",
       "      <td>\\r\\n  Look in thy glass and tell the face thou...</td>\n",
       "      <td>Look in thy glass and tell the face thou viewe...</td>\n",
       "    </tr>\n",
       "    <tr>\n",
       "      <th>3</th>\n",
       "      <td>sonnet</td>\n",
       "      <td>\\r\\n  Unthrifty loveliness, why dost thou spen...</td>\n",
       "      <td>Unthrifty loveliness, why dost thou spend  Upo...</td>\n",
       "    </tr>\n",
       "    <tr>\n",
       "      <th>4</th>\n",
       "      <td>sonnet</td>\n",
       "      <td>\\r\\n  Those hours, that with gentle work did f...</td>\n",
       "      <td>Those hours, that with gentle work did frame  ...</td>\n",
       "    </tr>\n",
       "  </tbody>\n",
       "</table>\n",
       "</div>"
      ],
      "text/plain": [
       "  text_type                                               text  \\\n",
       "0    sonnet  \\r\\n  From fairest creatures we desire increas...   \n",
       "1    sonnet  \\r\\n  When forty winters shall besiege thy bro...   \n",
       "2    sonnet  \\r\\n  Look in thy glass and tell the face thou...   \n",
       "3    sonnet  \\r\\n  Unthrifty loveliness, why dost thou spen...   \n",
       "4    sonnet  \\r\\n  Those hours, that with gentle work did f...   \n",
       "\n",
       "                                        text_cleaned  \n",
       "0  From fairest creatures we desire increase,  Th...  \n",
       "1  When forty winters shall besiege thy brow,  An...  \n",
       "2  Look in thy glass and tell the face thou viewe...  \n",
       "3  Unthrifty loveliness, why dost thou spend  Upo...  \n",
       "4  Those hours, that with gentle work did frame  ...  "
      ]
     },
     "execution_count": 17,
     "metadata": {},
     "output_type": "execute_result"
    }
   ],
   "source": [
    "df[\"text_cleaned\"] = df[\"text\"].str.strip().str.replace(\"\\r\\n\", \"\")\n",
    "df.head()"
   ]
  },
  {
   "cell_type": "code",
   "execution_count": 18,
   "metadata": {},
   "outputs": [
    {
     "data": {
      "text/plain": [
       "0      From fairest creatures we desire increase,  Th...\n",
       "1      When forty winters shall besiege thy brow,  An...\n",
       "2      Look in thy glass and tell the face thou viewe...\n",
       "3      Unthrifty loveliness, why dost thou spend  Upo...\n",
       "4      Those hours, that with gentle work did frame  ...\n",
       "                             ...                        \n",
       "201    The worst old ship that ever did sail, Sailed ...\n",
       "202    Oh, where am I to go, M'Johnnies, oh where am ...\n",
       "203    Whiskey is the life of man, Whiskey, Johnny! O...\n",
       "204    As we were a-fishing off Happisburgh light Sho...\n",
       "205    We'll heave him up an away we'll go 'Way, me S...\n",
       "Name: text_cleaned, Length: 206, dtype: object"
      ]
     },
     "execution_count": 18,
     "metadata": {},
     "output_type": "execute_result"
    }
   ],
   "source": [
    "df[\"text_cleaned\"] = df[\"text_cleaned\"].str.strip().str.replace(\"\\n\", \" \")\n",
    "df[\"text_cleaned\"] = df[\"text_cleaned\"].str.strip().str.replace(\"\\xa0\", \" \")\n",
    "df[\"text_cleaned\"]"
   ]
  },
  {
   "cell_type": "code",
   "execution_count": 19,
   "metadata": {},
   "outputs": [
    {
     "data": {
      "text/html": [
       "<div>\n",
       "<style scoped>\n",
       "    .dataframe tbody tr th:only-of-type {\n",
       "        vertical-align: middle;\n",
       "    }\n",
       "\n",
       "    .dataframe tbody tr th {\n",
       "        vertical-align: top;\n",
       "    }\n",
       "\n",
       "    .dataframe thead th {\n",
       "        text-align: right;\n",
       "    }\n",
       "</style>\n",
       "<table border=\"1\" class=\"dataframe\">\n",
       "  <thead>\n",
       "    <tr style=\"text-align: right;\">\n",
       "      <th></th>\n",
       "      <th>text_type</th>\n",
       "      <th>text</th>\n",
       "      <th>text_cleaned</th>\n",
       "    </tr>\n",
       "  </thead>\n",
       "  <tbody>\n",
       "    <tr>\n",
       "      <th>0</th>\n",
       "      <td>sonnet</td>\n",
       "      <td>\\r\\n  From fairest creatures we desire increas...</td>\n",
       "      <td>from fairest creatures we desire increase,  th...</td>\n",
       "    </tr>\n",
       "    <tr>\n",
       "      <th>1</th>\n",
       "      <td>sonnet</td>\n",
       "      <td>\\r\\n  When forty winters shall besiege thy bro...</td>\n",
       "      <td>when forty winters shall besiege thy brow,  an...</td>\n",
       "    </tr>\n",
       "    <tr>\n",
       "      <th>2</th>\n",
       "      <td>sonnet</td>\n",
       "      <td>\\r\\n  Look in thy glass and tell the face thou...</td>\n",
       "      <td>look in thy glass and tell the face thou viewe...</td>\n",
       "    </tr>\n",
       "    <tr>\n",
       "      <th>3</th>\n",
       "      <td>sonnet</td>\n",
       "      <td>\\r\\n  Unthrifty loveliness, why dost thou spen...</td>\n",
       "      <td>unthrifty loveliness, why dost thou spend  upo...</td>\n",
       "    </tr>\n",
       "    <tr>\n",
       "      <th>4</th>\n",
       "      <td>sonnet</td>\n",
       "      <td>\\r\\n  Those hours, that with gentle work did f...</td>\n",
       "      <td>those hours, that with gentle work did frame  ...</td>\n",
       "    </tr>\n",
       "  </tbody>\n",
       "</table>\n",
       "</div>"
      ],
      "text/plain": [
       "  text_type                                               text  \\\n",
       "0    sonnet  \\r\\n  From fairest creatures we desire increas...   \n",
       "1    sonnet  \\r\\n  When forty winters shall besiege thy bro...   \n",
       "2    sonnet  \\r\\n  Look in thy glass and tell the face thou...   \n",
       "3    sonnet  \\r\\n  Unthrifty loveliness, why dost thou spen...   \n",
       "4    sonnet  \\r\\n  Those hours, that with gentle work did f...   \n",
       "\n",
       "                                        text_cleaned  \n",
       "0  from fairest creatures we desire increase,  th...  \n",
       "1  when forty winters shall besiege thy brow,  an...  \n",
       "2  look in thy glass and tell the face thou viewe...  \n",
       "3  unthrifty loveliness, why dost thou spend  upo...  \n",
       "4  those hours, that with gentle work did frame  ...  "
      ]
     },
     "execution_count": 19,
     "metadata": {},
     "output_type": "execute_result"
    }
   ],
   "source": [
    "df[\"text_cleaned\"] = df[\"text_cleaned\"].str.lower()\n",
    "df.head()"
   ]
  },
  {
   "cell_type": "code",
   "execution_count": 20,
   "metadata": {},
   "outputs": [],
   "source": [
    "from nltk.corpus import stopwords\n",
    "\n",
    "en_stopwords = stopwords.words('english')"
   ]
  },
  {
   "cell_type": "code",
   "execution_count": 21,
   "metadata": {},
   "outputs": [
    {
     "data": {
      "text/plain": [
       "\"from fairest creatures we desire increase,  that thereby beauty's rose might never die,  but as the riper should by time decease,  his tender heir might bear his memory:  but thou, contracted to thine own bright eyes,  feed'st thy light's flame with self-substantial fuel,  making a famine where abundance lies,  thyself thy foe, to thy sweet self too cruel:  thou that art now the world's fresh ornament,  and only herald to the gaudy spring,  within thine own bud buriest thy content,  and tender churl mak'st waste in niggarding:        pity the world, or else this glutton be,        to eat the world's due, by the grave and thee.\""
      ]
     },
     "execution_count": 21,
     "metadata": {},
     "output_type": "execute_result"
    }
   ],
   "source": [
    "df.loc[0, \"text_cleaned\"]"
   ]
  },
  {
   "cell_type": "code",
   "execution_count": 22,
   "metadata": {},
   "outputs": [
    {
     "data": {
      "text/plain": [
       "\"fairest creatures desire increase,  thereby beauty's rose might never die,  riper time decease,  tender heir might bear memory:  thou, contracted thine bright eyes,  feed'st thy light's flame self-substantial fuel,  making famine abundance lies,  thyself thy foe, thy sweet self cruel:  thou art world's fresh ornament,  herald gaudy spring,  within thine bud buriest thy content,  tender churl mak'st waste niggarding:        pity world, else glutton be,        eat world's due, grave thee.\""
      ]
     },
     "execution_count": 22,
     "metadata": {},
     "output_type": "execute_result"
    }
   ],
   "source": [
    "def remove_stopwords(text):\n",
    "    words = text.split(\" \")\n",
    "    words_no_stopwords = [w for w in words if w not in en_stopwords]\n",
    "    return \" \".join(words_no_stopwords)\n",
    "\n",
    "remove_stopwords(df.loc[0, \"text_cleaned\"])"
   ]
  },
  {
   "cell_type": "markdown",
   "metadata": {},
   "source": [
    "## Analysis"
   ]
  },
  {
   "cell_type": "code",
   "execution_count": 23,
   "metadata": {},
   "outputs": [
    {
     "data": {
      "text/html": [
       "<div>\n",
       "<style scoped>\n",
       "    .dataframe tbody tr th:only-of-type {\n",
       "        vertical-align: middle;\n",
       "    }\n",
       "\n",
       "    .dataframe tbody tr th {\n",
       "        vertical-align: top;\n",
       "    }\n",
       "\n",
       "    .dataframe thead th {\n",
       "        text-align: right;\n",
       "    }\n",
       "</style>\n",
       "<table border=\"1\" class=\"dataframe\">\n",
       "  <thead>\n",
       "    <tr style=\"text-align: right;\">\n",
       "      <th></th>\n",
       "      <th>text_type</th>\n",
       "      <th>text</th>\n",
       "      <th>text_cleaned</th>\n",
       "      <th>text_length</th>\n",
       "    </tr>\n",
       "  </thead>\n",
       "  <tbody>\n",
       "    <tr>\n",
       "      <th>0</th>\n",
       "      <td>sonnet</td>\n",
       "      <td>\\r\\n  From fairest creatures we desire increas...</td>\n",
       "      <td>from fairest creatures we desire increase,  th...</td>\n",
       "      <td>634</td>\n",
       "    </tr>\n",
       "    <tr>\n",
       "      <th>1</th>\n",
       "      <td>sonnet</td>\n",
       "      <td>\\r\\n  When forty winters shall besiege thy bro...</td>\n",
       "      <td>when forty winters shall besiege thy brow,  an...</td>\n",
       "      <td>653</td>\n",
       "    </tr>\n",
       "    <tr>\n",
       "      <th>2</th>\n",
       "      <td>sonnet</td>\n",
       "      <td>\\r\\n  Look in thy glass and tell the face thou...</td>\n",
       "      <td>look in thy glass and tell the face thou viewe...</td>\n",
       "      <td>632</td>\n",
       "    </tr>\n",
       "    <tr>\n",
       "      <th>3</th>\n",
       "      <td>sonnet</td>\n",
       "      <td>\\r\\n  Unthrifty loveliness, why dost thou spen...</td>\n",
       "      <td>unthrifty loveliness, why dost thou spend  upo...</td>\n",
       "      <td>614</td>\n",
       "    </tr>\n",
       "    <tr>\n",
       "      <th>4</th>\n",
       "      <td>sonnet</td>\n",
       "      <td>\\r\\n  Those hours, that with gentle work did f...</td>\n",
       "      <td>those hours, that with gentle work did frame  ...</td>\n",
       "      <td>649</td>\n",
       "    </tr>\n",
       "  </tbody>\n",
       "</table>\n",
       "</div>"
      ],
      "text/plain": [
       "  text_type                                               text  \\\n",
       "0    sonnet  \\r\\n  From fairest creatures we desire increas...   \n",
       "1    sonnet  \\r\\n  When forty winters shall besiege thy bro...   \n",
       "2    sonnet  \\r\\n  Look in thy glass and tell the face thou...   \n",
       "3    sonnet  \\r\\n  Unthrifty loveliness, why dost thou spen...   \n",
       "4    sonnet  \\r\\n  Those hours, that with gentle work did f...   \n",
       "\n",
       "                                        text_cleaned  text_length  \n",
       "0  from fairest creatures we desire increase,  th...          634  \n",
       "1  when forty winters shall besiege thy brow,  an...          653  \n",
       "2  look in thy glass and tell the face thou viewe...          632  \n",
       "3  unthrifty loveliness, why dost thou spend  upo...          614  \n",
       "4  those hours, that with gentle work did frame  ...          649  "
      ]
     },
     "execution_count": 23,
     "metadata": {},
     "output_type": "execute_result"
    }
   ],
   "source": [
    "df[\"text_length\"] = df[\"text_cleaned\"].str.len()\n",
    "df.head()"
   ]
  },
  {
   "cell_type": "code",
   "execution_count": 24,
   "metadata": {},
   "outputs": [
    {
     "data": {
      "text/plain": [
       "text_type\n",
       "shanty    857.115385\n",
       "sonnet    633.597403\n",
       "Name: text_length, dtype: float64"
      ]
     },
     "execution_count": 24,
     "metadata": {},
     "output_type": "execute_result"
    }
   ],
   "source": [
    "df.groupby(\"text_type\")[\"text_length\"].mean()"
   ]
  },
  {
   "cell_type": "code",
   "execution_count": 25,
   "metadata": {},
   "outputs": [
    {
     "data": {
      "text/plain": [
       "<AxesSubplot:title={'center':'text_length'}, xlabel='text_type'>"
      ]
     },
     "execution_count": 25,
     "metadata": {},
     "output_type": "execute_result"
    },
    {
     "data": {
      "image/png": "[encoded data removed]",
      "text/plain": [
       "<Figure size 432x288 with 1 Axes>"
      ]
     },
     "metadata": {
      "needs_background": "light"
     },
     "output_type": "display_data"
    }
   ],
   "source": [
    "df.boxplot(column=\"text_length\", by=\"text_type\")"
   ]
  },
  {
   "cell_type": "code",
   "execution_count": 26,
   "metadata": {},
   "outputs": [
    {
     "data": {
      "text/html": [
       "<div>\n",
       "<style scoped>\n",
       "    .dataframe tbody tr th:only-of-type {\n",
       "        vertical-align: middle;\n",
       "    }\n",
       "\n",
       "    .dataframe tbody tr th {\n",
       "        vertical-align: top;\n",
       "    }\n",
       "\n",
       "    .dataframe thead th {\n",
       "        text-align: right;\n",
       "    }\n",
       "</style>\n",
       "<table border=\"1\" class=\"dataframe\">\n",
       "  <thead>\n",
       "    <tr style=\"text-align: right;\">\n",
       "      <th></th>\n",
       "      <th>text_type</th>\n",
       "      <th>text</th>\n",
       "      <th>text_cleaned</th>\n",
       "      <th>text_length</th>\n",
       "    </tr>\n",
       "  </thead>\n",
       "  <tbody>\n",
       "    <tr>\n",
       "      <th>170</th>\n",
       "      <td>shanty</td>\n",
       "      <td>\\n\\nOh, don't yiz hear the old man say?\\nGoodb...</td>\n",
       "      <td>oh, don't yiz hear the old man say? goodbye, f...</td>\n",
       "      <td>1754</td>\n",
       "    </tr>\n",
       "    <tr>\n",
       "      <th>178</th>\n",
       "      <td>shanty</td>\n",
       "      <td>\\n\\nWhen first I landed in Liverpool I went up...</td>\n",
       "      <td>when first i landed in liverpool i went upon t...</td>\n",
       "      <td>1645</td>\n",
       "    </tr>\n",
       "    <tr>\n",
       "      <th>155</th>\n",
       "      <td>shanty</td>\n",
       "      <td>\\n\\nMe bonnie bunch o’roses O!\\nCome down, ye ...</td>\n",
       "      <td>me bonnie bunch o’roses o! come down, ye blood...</td>\n",
       "      <td>1443</td>\n",
       "    </tr>\n",
       "    <tr>\n",
       "      <th>181</th>\n",
       "      <td>shanty</td>\n",
       "      <td>\\n\\nIt was cold and dreary morning in December...</td>\n",
       "      <td>it was cold and dreary morning in december (de...</td>\n",
       "      <td>1354</td>\n",
       "    </tr>\n",
       "    <tr>\n",
       "      <th>186</th>\n",
       "      <td>shanty</td>\n",
       "      <td>\\n\\nOh! Sally Brown, she's the gal for me boys...</td>\n",
       "      <td>oh! sally brown, she's the gal for me boys rol...</td>\n",
       "      <td>1334</td>\n",
       "    </tr>\n",
       "  </tbody>\n",
       "</table>\n",
       "</div>"
      ],
      "text/plain": [
       "    text_type                                               text  \\\n",
       "170    shanty  \\n\\nOh, don't yiz hear the old man say?\\nGoodb...   \n",
       "178    shanty  \\n\\nWhen first I landed in Liverpool I went up...   \n",
       "155    shanty  \\n\\nMe bonnie bunch o’roses O!\\nCome down, ye ...   \n",
       "181    shanty  \\n\\nIt was cold and dreary morning in December...   \n",
       "186    shanty  \\n\\nOh! Sally Brown, she's the gal for me boys...   \n",
       "\n",
       "                                          text_cleaned  text_length  \n",
       "170  oh, don't yiz hear the old man say? goodbye, f...         1754  \n",
       "178  when first i landed in liverpool i went upon t...         1645  \n",
       "155  me bonnie bunch o’roses o! come down, ye blood...         1443  \n",
       "181  it was cold and dreary morning in december (de...         1354  \n",
       "186  oh! sally brown, she's the gal for me boys rol...         1334  "
      ]
     },
     "execution_count": 26,
     "metadata": {},
     "output_type": "execute_result"
    }
   ],
   "source": [
    "df.sort_values(\"text_length\", ascending=False).head()"
   ]
  },
  {
   "cell_type": "code",
   "execution_count": 27,
   "metadata": {
    "scrolled": true
   },
   "outputs": [
    {
     "name": "stdout",
     "output_type": "stream",
     "text": [
      "\n",
      "\n",
      "Oh, don't yiz hear the old man say?\n",
      "Goodbye, fare-ye-well! Goodbye, fare-ye-well!\n",
      "Oh, don't yiz hear the old man say?\n",
      "Hoor-raw me boys! We're homeward bound!\n",
      "\n",
      "We're Homeward bound to Liverpool Town,\n",
      "Goodbye, fare-ye-well! Goodbye, fare-ye-well!\n",
      "Where all them judies, they will come down\n",
      "Hoor-raw me boys! We're homeward bound!\n",
      "\n",
      "An' when we gits to the Wallasey Gates\n",
      "Goodbye, fare-ye-well! Goodbye, fare-ye-well!\n",
      "Sally an' Olly for their flash men do wait\n",
      "Hoor-raw me boys! We're homeward bound!\n",
      "\n",
      "An' one to the other ye'll hear them say,\n",
      "Goodbye, fare-ye-well! Goodbye, fare-ye-well!\n",
      "Here comes Johnny with his fourteen mont's pay!\n",
      "Hoor-raw me boys! We're homeward bound!\n",
      "\n",
      "We meet these fly gals an' we'll ring the ol' bell,\n",
      "Goodbye, fare-ye-well! Goodbye, fare-ye-well!\n",
      "With them judies, we'll raise merry hell\n",
      "Hoor-raw me boys! We're homeward bound!\n",
      "\n",
      "We're homeward bound to the gals o' the town.\n",
      "Goodbye, fare-ye-well! Goodbye, fare-ye-well!\n",
      "And stamp up me bullies an' heave it around.\n",
      "Hoor-raw me boys! We're homeward bound!\n",
      "\n",
      "An' when we gits home, boys, oh, won't we fly round.\n",
      "Goodbye, fare-ye-well! Goodbye, fare-ye-well!\n",
      "We'll heave up the anchor to this bully sound.\n",
      "Hoor-raw me boys! We're homeward bound!\n",
      "\n",
      "We're all homeward bound for the old backyard.\n",
      "Goodbye, fare-ye-well! Goodbye, fare-ye-well!\n",
      "Then heave, me bullies, we're all bound homeward.\n",
      "Hoor-raw me boys! We're homeward bound!\n",
      "\n",
      "Heave with a will, boys, oh, heave long an' strong.\n",
      "Goodbye, fare-ye-well! Goodbye, fare-ye-well!\n",
      "Sing a good chorus for 'tis a good song.\n",
      "Hoor-raw me boys! We're homeward bound!\n",
      "\n",
      "We're homeward bound, we'll have yiz to know.\n",
      "Goodbye, fare-ye-well! Goodbye, fare-ye-well!\n",
      "An' over the water to England must go!\n",
      "Hoor-raw me boys! We're homeward bound!\n",
      "\n"
     ]
    }
   ],
   "source": [
    "print(df.loc[170, \"text\"])"
   ]
  },
  {
   "cell_type": "markdown",
   "metadata": {},
   "source": [
    "#### Basic model using length"
   ]
  },
  {
   "cell_type": "code",
   "execution_count": 49,
   "metadata": {},
   "outputs": [
    {
     "name": "stdout",
     "output_type": "stream",
     "text": [
      "(144, 2) (62, 2)\n"
     ]
    }
   ],
   "source": [
    "from sklearn.model_selection import train_test_split\n",
    "\n",
    "X = df[[\"text_cleaned\", \"text_length\"]]\n",
    "y = df[\"text_type\"]\n",
    "\n",
    "X_train, X_test, y_train, y_test = train_test_split(X, y, test_size=0.3, random_state=42)\n",
    "print(X_train.shape, X_test.shape)"
   ]
  },
  {
   "cell_type": "code",
   "execution_count": 50,
   "metadata": {},
   "outputs": [
    {
     "data": {
      "text/plain": [
       "sonnet    0.756944\n",
       "shanty    0.243056\n",
       "Name: text_type, dtype: float64"
      ]
     },
     "execution_count": 50,
     "metadata": {},
     "output_type": "execute_result"
    }
   ],
   "source": [
    "y_train.value_counts(normalize=True)"
   ]
  },
  {
   "cell_type": "code",
   "execution_count": 51,
   "metadata": {},
   "outputs": [
    {
     "data": {
      "text/plain": [
       "sonnet    0.725806\n",
       "shanty    0.274194\n",
       "Name: text_type, dtype: float64"
      ]
     },
     "execution_count": 51,
     "metadata": {},
     "output_type": "execute_result"
    }
   ],
   "source": [
    "y_test.value_counts(normalize=True)"
   ]
  },
  {
   "cell_type": "code",
   "execution_count": 53,
   "metadata": {},
   "outputs": [
    {
     "data": {
      "text/plain": [
       "LogisticRegression()"
      ]
     },
     "execution_count": 53,
     "metadata": {},
     "output_type": "execute_result"
    }
   ],
   "source": [
    "from sklearn.linear_model import LogisticRegression\n",
    "\n",
    "lr = LogisticRegression()\n",
    "\n",
    "lr.fit(X_train[[\"text_length\"]], y_train)"
   ]
  },
  {
   "cell_type": "code",
   "execution_count": 54,
   "metadata": {},
   "outputs": [
    {
     "data": {
      "text/plain": [
       "array(['shanty', 'sonnet'], dtype=object)"
      ]
     },
     "execution_count": 54,
     "metadata": {},
     "output_type": "execute_result"
    }
   ],
   "source": [
    "lr.classes_"
   ]
  },
  {
   "cell_type": "code",
   "execution_count": 55,
   "metadata": {},
   "outputs": [
    {
     "data": {
      "text/plain": [
       "array([[-0.02095439]])"
      ]
     },
     "execution_count": 55,
     "metadata": {},
     "output_type": "execute_result"
    }
   ],
   "source": [
    "lr.coef_"
   ]
  },
  {
   "cell_type": "code",
   "execution_count": 56,
   "metadata": {},
   "outputs": [
    {
     "data": {
      "text/plain": [
       "0.9990423238530435"
      ]
     },
     "execution_count": 56,
     "metadata": {},
     "output_type": "execute_result"
    }
   ],
   "source": [
    "lr.predict_proba([[400]])[0][1]"
   ]
  },
  {
   "cell_type": "code",
   "execution_count": 57,
   "metadata": {},
   "outputs": [
    {
     "data": {
      "image/png": "[encoded data removed]",
      "text/plain": [
       "<Figure size 432x288 with 1 Axes>"
      ]
     },
     "metadata": {
      "needs_background": "light"
     },
     "output_type": "display_data"
    }
   ],
   "source": [
    "import numpy as np\n",
    "import matplotlib.pyplot as plt\n",
    "\n",
    "lengths = np.arange(400, 1800, 50)\n",
    "probabilities = []\n",
    "\n",
    "for length in lengths:\n",
    "    proba = lr.predict_proba([[length]])[0][1]\n",
    "    probabilities.append(proba)\n",
    "\n",
    "fig, ax = plt.subplots()\n",
    "\n",
    "ax.plot(lengths, probabilities)\n",
    "ax.set(title=\"Length of text vs. probability that it's a sonnet (and not a shanty)\",\n",
    "       xlabel=\"Length (characters)\",\n",
    "       ylabel=\"Sonnet probability\")\n",
    "\n",
    "ax.axhline(0.5, linestyle=\"dashed\", color=\"orange\", alpha=0.5)\n",
    "\n",
    "plt.show()"
   ]
  },
  {
   "cell_type": "code",
   "execution_count": 46,
   "metadata": {},
   "outputs": [
    {
     "data": {
      "image/png": "[encoded data removed]",
      "text/plain": [
       "<Figure size 432x288 with 2 Axes>"
      ]
     },
     "metadata": {
      "needs_background": "light"
     },
     "output_type": "display_data"
    }
   ],
   "source": [
    "from sklearn.metrics import plot_confusion_matrix\n",
    "\n",
    "plot_confusion_matrix(lr, X_test, y_test);"
   ]
  },
  {
   "cell_type": "markdown",
   "metadata": {},
   "source": [
    "### Better model using document-term matrix"
   ]
  },
  {
   "cell_type": "code",
   "execution_count": 71,
   "metadata": {},
   "outputs": [],
   "source": [
    "from sklearn.feature_extraction.text import CountVectorizer\n",
    "\n",
    "vec = CountVectorizer(binary=True)\n",
    "\n",
    "X_train_transformed = vec.fit_transform(X_train[\"text_cleaned\"])"
   ]
  },
  {
   "cell_type": "code",
   "execution_count": 75,
   "metadata": {},
   "outputs": [
    {
     "data": {
      "text/html": [
       "<div>\n",
       "<style scoped>\n",
       "    .dataframe tbody tr th:only-of-type {\n",
       "        vertical-align: middle;\n",
       "    }\n",
       "\n",
       "    .dataframe tbody tr th {\n",
       "        vertical-align: top;\n",
       "    }\n",
       "\n",
       "    .dataframe thead th {\n",
       "        text-align: right;\n",
       "    }\n",
       "</style>\n",
       "<table border=\"1\" class=\"dataframe\">\n",
       "  <thead>\n",
       "    <tr style=\"text-align: right;\">\n",
       "      <th></th>\n",
       "      <th>50</th>\n",
       "      <th>abhor</th>\n",
       "      <th>abide</th>\n",
       "      <th>aboard</th>\n",
       "      <th>about</th>\n",
       "      <th>above</th>\n",
       "      <th>absence</th>\n",
       "      <th>absent</th>\n",
       "      <th>abundance</th>\n",
       "      <th>abundant</th>\n",
       "      <th>...</th>\n",
       "      <th>york</th>\n",
       "      <th>you</th>\n",
       "      <th>young</th>\n",
       "      <th>youngly</th>\n",
       "      <th>your</th>\n",
       "      <th>yours</th>\n",
       "      <th>yourself</th>\n",
       "      <th>youth</th>\n",
       "      <th>youthful</th>\n",
       "      <th>zealous</th>\n",
       "    </tr>\n",
       "  </thead>\n",
       "  <tbody>\n",
       "    <tr>\n",
       "      <th>0</th>\n",
       "      <td>0</td>\n",
       "      <td>0</td>\n",
       "      <td>0</td>\n",
       "      <td>0</td>\n",
       "      <td>1</td>\n",
       "      <td>0</td>\n",
       "      <td>0</td>\n",
       "      <td>0</td>\n",
       "      <td>0</td>\n",
       "      <td>0</td>\n",
       "      <td>...</td>\n",
       "      <td>0</td>\n",
       "      <td>1</td>\n",
       "      <td>0</td>\n",
       "      <td>0</td>\n",
       "      <td>1</td>\n",
       "      <td>0</td>\n",
       "      <td>0</td>\n",
       "      <td>0</td>\n",
       "      <td>0</td>\n",
       "      <td>0</td>\n",
       "    </tr>\n",
       "    <tr>\n",
       "      <th>1</th>\n",
       "      <td>0</td>\n",
       "      <td>0</td>\n",
       "      <td>0</td>\n",
       "      <td>0</td>\n",
       "      <td>0</td>\n",
       "      <td>0</td>\n",
       "      <td>0</td>\n",
       "      <td>0</td>\n",
       "      <td>0</td>\n",
       "      <td>0</td>\n",
       "      <td>...</td>\n",
       "      <td>0</td>\n",
       "      <td>1</td>\n",
       "      <td>0</td>\n",
       "      <td>0</td>\n",
       "      <td>0</td>\n",
       "      <td>0</td>\n",
       "      <td>0</td>\n",
       "      <td>0</td>\n",
       "      <td>0</td>\n",
       "      <td>0</td>\n",
       "    </tr>\n",
       "    <tr>\n",
       "      <th>2</th>\n",
       "      <td>0</td>\n",
       "      <td>0</td>\n",
       "      <td>0</td>\n",
       "      <td>0</td>\n",
       "      <td>0</td>\n",
       "      <td>0</td>\n",
       "      <td>0</td>\n",
       "      <td>0</td>\n",
       "      <td>0</td>\n",
       "      <td>0</td>\n",
       "      <td>...</td>\n",
       "      <td>0</td>\n",
       "      <td>0</td>\n",
       "      <td>0</td>\n",
       "      <td>0</td>\n",
       "      <td>0</td>\n",
       "      <td>0</td>\n",
       "      <td>0</td>\n",
       "      <td>0</td>\n",
       "      <td>0</td>\n",
       "      <td>0</td>\n",
       "    </tr>\n",
       "    <tr>\n",
       "      <th>3</th>\n",
       "      <td>0</td>\n",
       "      <td>0</td>\n",
       "      <td>0</td>\n",
       "      <td>0</td>\n",
       "      <td>0</td>\n",
       "      <td>0</td>\n",
       "      <td>0</td>\n",
       "      <td>0</td>\n",
       "      <td>0</td>\n",
       "      <td>0</td>\n",
       "      <td>...</td>\n",
       "      <td>0</td>\n",
       "      <td>0</td>\n",
       "      <td>0</td>\n",
       "      <td>0</td>\n",
       "      <td>0</td>\n",
       "      <td>0</td>\n",
       "      <td>0</td>\n",
       "      <td>0</td>\n",
       "      <td>0</td>\n",
       "      <td>0</td>\n",
       "    </tr>\n",
       "    <tr>\n",
       "      <th>4</th>\n",
       "      <td>0</td>\n",
       "      <td>0</td>\n",
       "      <td>0</td>\n",
       "      <td>0</td>\n",
       "      <td>0</td>\n",
       "      <td>0</td>\n",
       "      <td>0</td>\n",
       "      <td>0</td>\n",
       "      <td>0</td>\n",
       "      <td>0</td>\n",
       "      <td>...</td>\n",
       "      <td>0</td>\n",
       "      <td>1</td>\n",
       "      <td>0</td>\n",
       "      <td>0</td>\n",
       "      <td>1</td>\n",
       "      <td>1</td>\n",
       "      <td>1</td>\n",
       "      <td>0</td>\n",
       "      <td>0</td>\n",
       "      <td>0</td>\n",
       "    </tr>\n",
       "  </tbody>\n",
       "</table>\n",
       "<p>5 rows × 3104 columns</p>\n",
       "</div>"
      ],
      "text/plain": [
       "   50  abhor  abide  aboard  about  above  absence  absent  abundance  \\\n",
       "0   0      0      0       0      1      0        0       0          0   \n",
       "1   0      0      0       0      0      0        0       0          0   \n",
       "2   0      0      0       0      0      0        0       0          0   \n",
       "3   0      0      0       0      0      0        0       0          0   \n",
       "4   0      0      0       0      0      0        0       0          0   \n",
       "\n",
       "   abundant  ...  york  you  young  youngly  your  yours  yourself  youth  \\\n",
       "0         0  ...     0    1      0        0     1      0         0      0   \n",
       "1         0  ...     0    1      0        0     0      0         0      0   \n",
       "2         0  ...     0    0      0        0     0      0         0      0   \n",
       "3         0  ...     0    0      0        0     0      0         0      0   \n",
       "4         0  ...     0    1      0        0     1      1         1      0   \n",
       "\n",
       "   youthful  zealous  \n",
       "0         0        0  \n",
       "1         0        0  \n",
       "2         0        0  \n",
       "3         0        0  \n",
       "4         0        0  \n",
       "\n",
       "[5 rows x 3104 columns]"
      ]
     },
     "execution_count": 75,
     "metadata": {},
     "output_type": "execute_result"
    }
   ],
   "source": [
    "train_df = pd.DataFrame(\n",
    "    data=X_train_transformed.todense(),\n",
    "    columns=vec.get_feature_names()\n",
    ")\n",
    "\n",
    "train_df.head()"
   ]
  },
  {
   "cell_type": "code",
   "execution_count": 83,
   "metadata": {},
   "outputs": [
    {
     "data": {
      "text/plain": [
       "RandomForestClassifier(n_estimators=23)"
      ]
     },
     "execution_count": 83,
     "metadata": {},
     "output_type": "execute_result"
    }
   ],
   "source": [
    "from sklearn.ensemble import RandomForestClassifier\n",
    "\n",
    "rf = RandomForestClassifier(n_estimators=23)\n",
    "\n",
    "rf.fit(train_df, y_train)"
   ]
  },
  {
   "cell_type": "code",
   "execution_count": 85,
   "metadata": {},
   "outputs": [
    {
     "data": {
      "text/html": [
       "<div>\n",
       "<style scoped>\n",
       "    .dataframe tbody tr th:only-of-type {\n",
       "        vertical-align: middle;\n",
       "    }\n",
       "\n",
       "    .dataframe tbody tr th {\n",
       "        vertical-align: top;\n",
       "    }\n",
       "\n",
       "    .dataframe thead th {\n",
       "        text-align: right;\n",
       "    }\n",
       "</style>\n",
       "<table border=\"1\" class=\"dataframe\">\n",
       "  <thead>\n",
       "    <tr style=\"text-align: right;\">\n",
       "      <th></th>\n",
       "      <th>feature</th>\n",
       "      <th>importance</th>\n",
       "    </tr>\n",
       "  </thead>\n",
       "  <tbody>\n",
       "    <tr>\n",
       "      <th>0</th>\n",
       "      <td>50</td>\n",
       "      <td>0.0</td>\n",
       "    </tr>\n",
       "    <tr>\n",
       "      <th>1</th>\n",
       "      <td>abhor</td>\n",
       "      <td>0.0</td>\n",
       "    </tr>\n",
       "    <tr>\n",
       "      <th>2</th>\n",
       "      <td>abide</td>\n",
       "      <td>0.0</td>\n",
       "    </tr>\n",
       "    <tr>\n",
       "      <th>3</th>\n",
       "      <td>aboard</td>\n",
       "      <td>0.0</td>\n",
       "    </tr>\n",
       "    <tr>\n",
       "      <th>4</th>\n",
       "      <td>about</td>\n",
       "      <td>0.0</td>\n",
       "    </tr>\n",
       "  </tbody>\n",
       "</table>\n",
       "</div>"
      ],
      "text/plain": [
       "  feature  importance\n",
       "0      50         0.0\n",
       "1   abhor         0.0\n",
       "2   abide         0.0\n",
       "3  aboard         0.0\n",
       "4   about         0.0"
      ]
     },
     "execution_count": 85,
     "metadata": {},
     "output_type": "execute_result"
    }
   ],
   "source": [
    "df_features = pd.DataFrame(\n",
    "    data={\n",
    "        \"feature\": vec.get_feature_names(),\n",
    "        \"importance\": rf.feature_importances_\n",
    "    }\n",
    ")\n",
    "\n",
    "df_features.head()"
   ]
  },
  {
   "cell_type": "code",
   "execution_count": 89,
   "metadata": {},
   "outputs": [
    {
     "data": {
      "text/html": [
       "<div>\n",
       "<style scoped>\n",
       "    .dataframe tbody tr th:only-of-type {\n",
       "        vertical-align: middle;\n",
       "    }\n",
       "\n",
       "    .dataframe tbody tr th {\n",
       "        vertical-align: top;\n",
       "    }\n",
       "\n",
       "    .dataframe thead th {\n",
       "        text-align: right;\n",
       "    }\n",
       "</style>\n",
       "<table border=\"1\" class=\"dataframe\">\n",
       "  <thead>\n",
       "    <tr style=\"text-align: right;\">\n",
       "      <th></th>\n",
       "      <th>feature</th>\n",
       "      <th>importance</th>\n",
       "    </tr>\n",
       "  </thead>\n",
       "  <tbody>\n",
       "    <tr>\n",
       "      <th>2078</th>\n",
       "      <td>re</td>\n",
       "      <td>0.054127</td>\n",
       "    </tr>\n",
       "    <tr>\n",
       "      <th>2973</th>\n",
       "      <td>which</td>\n",
       "      <td>0.037873</td>\n",
       "    </tr>\n",
       "    <tr>\n",
       "      <th>470</th>\n",
       "      <td>chorus</td>\n",
       "      <td>0.035565</td>\n",
       "    </tr>\n",
       "    <tr>\n",
       "      <th>2653</th>\n",
       "      <td>that</td>\n",
       "      <td>0.032946</td>\n",
       "    </tr>\n",
       "    <tr>\n",
       "      <th>2322</th>\n",
       "      <td>she</td>\n",
       "      <td>0.024663</td>\n",
       "    </tr>\n",
       "    <tr>\n",
       "      <th>...</th>\n",
       "      <td>...</td>\n",
       "      <td>...</td>\n",
       "    </tr>\n",
       "    <tr>\n",
       "      <th>2518</th>\n",
       "      <td>store</td>\n",
       "      <td>0.000008</td>\n",
       "    </tr>\n",
       "    <tr>\n",
       "      <th>1666</th>\n",
       "      <td>methinks</td>\n",
       "      <td>0.000006</td>\n",
       "    </tr>\n",
       "    <tr>\n",
       "      <th>1657</th>\n",
       "      <td>men</td>\n",
       "      <td>0.000003</td>\n",
       "    </tr>\n",
       "    <tr>\n",
       "      <th>1726</th>\n",
       "      <td>muse</td>\n",
       "      <td>0.000002</td>\n",
       "    </tr>\n",
       "    <tr>\n",
       "      <th>1739</th>\n",
       "      <td>nature</td>\n",
       "      <td>0.000002</td>\n",
       "    </tr>\n",
       "  </tbody>\n",
       "</table>\n",
       "<p>301 rows × 2 columns</p>\n",
       "</div>"
      ],
      "text/plain": [
       "       feature  importance\n",
       "2078        re    0.054127\n",
       "2973     which    0.037873\n",
       "470     chorus    0.035565\n",
       "2653      that    0.032946\n",
       "2322       she    0.024663\n",
       "...        ...         ...\n",
       "2518     store    0.000008\n",
       "1666  methinks    0.000006\n",
       "1657       men    0.000003\n",
       "1726      muse    0.000002\n",
       "1739    nature    0.000002\n",
       "\n",
       "[301 rows x 2 columns]"
      ]
     },
     "execution_count": 89,
     "metadata": {},
     "output_type": "execute_result"
    }
   ],
   "source": [
    "df_features[df_features[\"importance\"] > 0].sort_values(\"importance\", ascending=False)"
   ]
  },
  {
   "cell_type": "code",
   "execution_count": 90,
   "metadata": {},
   "outputs": [],
   "source": [
    "X_test_text = vec.transform(X_test[\"text_cleaned\"])"
   ]
  },
  {
   "cell_type": "code",
   "execution_count": 91,
   "metadata": {},
   "outputs": [
    {
     "data": {
      "image/png": "[encoded data removed]",
      "text/plain": [
       "<Figure size 432x288 with 2 Axes>"
      ]
     },
     "metadata": {
      "needs_background": "light"
     },
     "output_type": "display_data"
    }
   ],
   "source": [
    "plot_confusion_matrix(rf, X_test_text, y_test);"
   ]
  },
  {
   "cell_type": "markdown",
   "metadata": {},
   "source": [
    "Look at some of these weird words from feature importances"
   ]
  },
  {
   "cell_type": "code",
   "execution_count": 93,
   "metadata": {},
   "outputs": [
    {
     "data": {
      "text/html": [
       "<div>\n",
       "<style scoped>\n",
       "    .dataframe tbody tr th:only-of-type {\n",
       "        vertical-align: middle;\n",
       "    }\n",
       "\n",
       "    .dataframe tbody tr th {\n",
       "        vertical-align: top;\n",
       "    }\n",
       "\n",
       "    .dataframe thead th {\n",
       "        text-align: right;\n",
       "    }\n",
       "</style>\n",
       "<table border=\"1\" class=\"dataframe\">\n",
       "  <thead>\n",
       "    <tr style=\"text-align: right;\">\n",
       "      <th></th>\n",
       "      <th>50</th>\n",
       "      <th>abhor</th>\n",
       "      <th>abide</th>\n",
       "      <th>aboard</th>\n",
       "      <th>about</th>\n",
       "      <th>above</th>\n",
       "      <th>absence</th>\n",
       "      <th>absent</th>\n",
       "      <th>abundance</th>\n",
       "      <th>abundant</th>\n",
       "      <th>...</th>\n",
       "      <th>york</th>\n",
       "      <th>you</th>\n",
       "      <th>young</th>\n",
       "      <th>youngly</th>\n",
       "      <th>your</th>\n",
       "      <th>yours</th>\n",
       "      <th>yourself</th>\n",
       "      <th>youth</th>\n",
       "      <th>youthful</th>\n",
       "      <th>zealous</th>\n",
       "    </tr>\n",
       "  </thead>\n",
       "  <tbody>\n",
       "    <tr>\n",
       "      <th>3</th>\n",
       "      <td>0</td>\n",
       "      <td>0</td>\n",
       "      <td>0</td>\n",
       "      <td>0</td>\n",
       "      <td>0</td>\n",
       "      <td>0</td>\n",
       "      <td>0</td>\n",
       "      <td>0</td>\n",
       "      <td>0</td>\n",
       "      <td>0</td>\n",
       "      <td>...</td>\n",
       "      <td>0</td>\n",
       "      <td>0</td>\n",
       "      <td>0</td>\n",
       "      <td>0</td>\n",
       "      <td>0</td>\n",
       "      <td>0</td>\n",
       "      <td>0</td>\n",
       "      <td>0</td>\n",
       "      <td>0</td>\n",
       "      <td>0</td>\n",
       "    </tr>\n",
       "    <tr>\n",
       "      <th>13</th>\n",
       "      <td>0</td>\n",
       "      <td>0</td>\n",
       "      <td>0</td>\n",
       "      <td>0</td>\n",
       "      <td>0</td>\n",
       "      <td>0</td>\n",
       "      <td>0</td>\n",
       "      <td>0</td>\n",
       "      <td>0</td>\n",
       "      <td>0</td>\n",
       "      <td>...</td>\n",
       "      <td>0</td>\n",
       "      <td>0</td>\n",
       "      <td>1</td>\n",
       "      <td>0</td>\n",
       "      <td>0</td>\n",
       "      <td>0</td>\n",
       "      <td>0</td>\n",
       "      <td>0</td>\n",
       "      <td>0</td>\n",
       "      <td>0</td>\n",
       "    </tr>\n",
       "    <tr>\n",
       "      <th>39</th>\n",
       "      <td>0</td>\n",
       "      <td>0</td>\n",
       "      <td>0</td>\n",
       "      <td>0</td>\n",
       "      <td>0</td>\n",
       "      <td>0</td>\n",
       "      <td>0</td>\n",
       "      <td>0</td>\n",
       "      <td>0</td>\n",
       "      <td>0</td>\n",
       "      <td>...</td>\n",
       "      <td>0</td>\n",
       "      <td>1</td>\n",
       "      <td>1</td>\n",
       "      <td>0</td>\n",
       "      <td>0</td>\n",
       "      <td>0</td>\n",
       "      <td>0</td>\n",
       "      <td>0</td>\n",
       "      <td>0</td>\n",
       "      <td>0</td>\n",
       "    </tr>\n",
       "    <tr>\n",
       "      <th>40</th>\n",
       "      <td>0</td>\n",
       "      <td>0</td>\n",
       "      <td>0</td>\n",
       "      <td>0</td>\n",
       "      <td>0</td>\n",
       "      <td>0</td>\n",
       "      <td>0</td>\n",
       "      <td>0</td>\n",
       "      <td>0</td>\n",
       "      <td>0</td>\n",
       "      <td>...</td>\n",
       "      <td>0</td>\n",
       "      <td>1</td>\n",
       "      <td>1</td>\n",
       "      <td>0</td>\n",
       "      <td>0</td>\n",
       "      <td>0</td>\n",
       "      <td>0</td>\n",
       "      <td>0</td>\n",
       "      <td>0</td>\n",
       "      <td>0</td>\n",
       "    </tr>\n",
       "    <tr>\n",
       "      <th>61</th>\n",
       "      <td>0</td>\n",
       "      <td>0</td>\n",
       "      <td>0</td>\n",
       "      <td>0</td>\n",
       "      <td>0</td>\n",
       "      <td>0</td>\n",
       "      <td>0</td>\n",
       "      <td>0</td>\n",
       "      <td>0</td>\n",
       "      <td>0</td>\n",
       "      <td>...</td>\n",
       "      <td>0</td>\n",
       "      <td>1</td>\n",
       "      <td>0</td>\n",
       "      <td>0</td>\n",
       "      <td>0</td>\n",
       "      <td>0</td>\n",
       "      <td>0</td>\n",
       "      <td>0</td>\n",
       "      <td>0</td>\n",
       "      <td>0</td>\n",
       "    </tr>\n",
       "  </tbody>\n",
       "</table>\n",
       "<p>5 rows × 3104 columns</p>\n",
       "</div>"
      ],
      "text/plain": [
       "    50  abhor  abide  aboard  about  above  absence  absent  abundance  \\\n",
       "3    0      0      0       0      0      0        0       0          0   \n",
       "13   0      0      0       0      0      0        0       0          0   \n",
       "39   0      0      0       0      0      0        0       0          0   \n",
       "40   0      0      0       0      0      0        0       0          0   \n",
       "61   0      0      0       0      0      0        0       0          0   \n",
       "\n",
       "    abundant  ...  york  you  young  youngly  your  yours  yourself  youth  \\\n",
       "3          0  ...     0    0      0        0     0      0         0      0   \n",
       "13         0  ...     0    0      1        0     0      0         0      0   \n",
       "39         0  ...     0    1      1        0     0      0         0      0   \n",
       "40         0  ...     0    1      1        0     0      0         0      0   \n",
       "61         0  ...     0    1      0        0     0      0         0      0   \n",
       "\n",
       "    youthful  zealous  \n",
       "3          0        0  \n",
       "13         0        0  \n",
       "39         0        0  \n",
       "40         0        0  \n",
       "61         0        0  \n",
       "\n",
       "[5 rows x 3104 columns]"
      ]
     },
     "execution_count": 93,
     "metadata": {},
     "output_type": "execute_result"
    }
   ],
   "source": [
    "train_df[train_df[\"re\"] == 1].head()"
   ]
  },
  {
   "cell_type": "code",
   "execution_count": 103,
   "metadata": {},
   "outputs": [
    {
     "data": {
      "text/plain": [
       "['receivest,', 'refusest.']"
      ]
     },
     "execution_count": 103,
     "metadata": {},
     "output_type": "execute_result"
    }
   ],
   "source": [
    "[w for w in df.loc[39, \"text_cleaned\"].split(\" \") if w.startswith(\"re\")]"
   ]
  }
 ],
 "metadata": {
  "kernelspec": {
   "display_name": "Python 3",
   "language": "python",
   "name": "python3"
  },
  "language_info": {
   "codemirror_mode": {
    "name": "ipython",
    "version": 3
   },
   "file_extension": ".py",
   "mimetype": "text/x-python",
   "name": "python",
   "nbconvert_exporter": "python",
   "pygments_lexer": "ipython3",
   "version": "3.8.5"
  }
 },
 "nbformat": 4,
 "nbformat_minor": 4
}
