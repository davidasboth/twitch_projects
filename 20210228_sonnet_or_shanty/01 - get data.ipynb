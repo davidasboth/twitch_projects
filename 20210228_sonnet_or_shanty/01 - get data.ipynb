{
 "cells": [
  {
   "cell_type": "markdown",
   "metadata": {},
   "source": [
    "# Sonnet or Shanty?"
   ]
  },
  {
   "cell_type": "code",
   "execution_count": 1,
   "metadata": {},
   "outputs": [],
   "source": [
    "import requests"
   ]
  },
  {
   "cell_type": "markdown",
   "metadata": {},
   "source": [
    "# Sonnet\n",
    "\n",
    "Start with sonnets from Project Gutenberg"
   ]
  },
  {
   "cell_type": "code",
   "execution_count": 3,
   "metadata": {},
   "outputs": [],
   "source": [
    "req = requests.get(\"https://www.gutenberg.org/files/1041/1041-h/1041-h.htm\")\n",
    "req.raise_for_status()"
   ]
  },
  {
   "cell_type": "code",
   "execution_count": 4,
   "metadata": {},
   "outputs": [],
   "source": [
    "from bs4 import BeautifulSoup\n",
    "\n",
    "soup = BeautifulSoup(req.text)"
   ]
  },
  {
   "cell_type": "code",
   "execution_count": 6,
   "metadata": {},
   "outputs": [
    {
     "data": {
      "text/plain": [
       "154"
      ]
     },
     "execution_count": 6,
     "metadata": {},
     "output_type": "execute_result"
    }
   ],
   "source": [
    "poem_tags = soup.select(\"p.poem\")\n",
    "len(poem_tags)"
   ]
  },
  {
   "cell_type": "code",
   "execution_count": 10,
   "metadata": {},
   "outputs": [
    {
     "data": {
      "text/plain": [
       "154"
      ]
     },
     "execution_count": 10,
     "metadata": {},
     "output_type": "execute_result"
    }
   ],
   "source": [
    "sonnets = [tag.get_text() for tag in poem_tags]\n",
    "len(sonnets)"
   ]
  },
  {
   "cell_type": "markdown",
   "metadata": {},
   "source": [
    "# Sea shanties"
   ]
  },
  {
   "cell_type": "code",
   "execution_count": 11,
   "metadata": {},
   "outputs": [],
   "source": [
    "shanty_req = requests.get(\"https://assassinscreed.fandom.com/wiki/Sea_shanties\")\n",
    "shanty_req.raise_for_status()"
   ]
  },
  {
   "cell_type": "code",
   "execution_count": 13,
   "metadata": {},
   "outputs": [],
   "source": [
    "shanty_soup = BeautifulSoup(shanty_req.text)"
   ]
  },
  {
   "cell_type": "code",
   "execution_count": 15,
   "metadata": {},
   "outputs": [
    {
     "data": {
      "text/plain": [
       "52"
      ]
     },
     "execution_count": 15,
     "metadata": {},
     "output_type": "execute_result"
    }
   ],
   "source": [
    "shanty_tabs = shanty_soup.select(\"div.tabbertab\")\n",
    "len(shanty_tabs)"
   ]
  },
  {
   "cell_type": "code",
   "execution_count": 18,
   "metadata": {},
   "outputs": [
    {
     "data": {
      "text/plain": [
       "52"
      ]
     },
     "execution_count": 18,
     "metadata": {},
     "output_type": "execute_result"
    }
   ],
   "source": [
    "shanties = [tag.get_text() for tag in shanty_tabs]\n",
    "len(shanties)"
   ]
  },
  {
   "cell_type": "markdown",
   "metadata": {},
   "source": [
    "## Combine them!"
   ]
  },
  {
   "cell_type": "code",
   "execution_count": 20,
   "metadata": {},
   "outputs": [],
   "source": [
    "import pandas as pd"
   ]
  },
  {
   "cell_type": "code",
   "execution_count": 21,
   "metadata": {},
   "outputs": [
    {
     "data": {
      "text/html": [
       "<div>\n",
       "<style scoped>\n",
       "    .dataframe tbody tr th:only-of-type {\n",
       "        vertical-align: middle;\n",
       "    }\n",
       "\n",
       "    .dataframe tbody tr th {\n",
       "        vertical-align: top;\n",
       "    }\n",
       "\n",
       "    .dataframe thead th {\n",
       "        text-align: right;\n",
       "    }\n",
       "</style>\n",
       "<table border=\"1\" class=\"dataframe\">\n",
       "  <thead>\n",
       "    <tr style=\"text-align: right;\">\n",
       "      <th></th>\n",
       "      <th>text_type</th>\n",
       "      <th>text</th>\n",
       "    </tr>\n",
       "  </thead>\n",
       "  <tbody>\n",
       "    <tr>\n",
       "      <th>0</th>\n",
       "      <td>sonnet</td>\n",
       "      <td>\\r\\n  From fairest creatures we desire increas...</td>\n",
       "    </tr>\n",
       "    <tr>\n",
       "      <th>1</th>\n",
       "      <td>sonnet</td>\n",
       "      <td>\\r\\n  When forty winters shall besiege thy bro...</td>\n",
       "    </tr>\n",
       "    <tr>\n",
       "      <th>2</th>\n",
       "      <td>sonnet</td>\n",
       "      <td>\\r\\n  Look in thy glass and tell the face thou...</td>\n",
       "    </tr>\n",
       "    <tr>\n",
       "      <th>3</th>\n",
       "      <td>sonnet</td>\n",
       "      <td>\\r\\n  Unthrifty loveliness, why dost thou spen...</td>\n",
       "    </tr>\n",
       "    <tr>\n",
       "      <th>4</th>\n",
       "      <td>sonnet</td>\n",
       "      <td>\\r\\n  Those hours, that with gentle work did f...</td>\n",
       "    </tr>\n",
       "  </tbody>\n",
       "</table>\n",
       "</div>"
      ],
      "text/plain": [
       "  text_type                                               text\n",
       "0    sonnet  \\r\\n  From fairest creatures we desire increas...\n",
       "1    sonnet  \\r\\n  When forty winters shall besiege thy bro...\n",
       "2    sonnet  \\r\\n  Look in thy glass and tell the face thou...\n",
       "3    sonnet  \\r\\n  Unthrifty loveliness, why dost thou spen...\n",
       "4    sonnet  \\r\\n  Those hours, that with gentle work did f..."
      ]
     },
     "execution_count": 21,
     "metadata": {},
     "output_type": "execute_result"
    }
   ],
   "source": [
    "df_sonnets = pd.DataFrame(\n",
    "    data={\n",
    "        \"text_type\": \"sonnet\",\n",
    "        \"text\": sonnets\n",
    "    }\n",
    ")\n",
    "\n",
    "df_sonnets.head()"
   ]
  },
  {
   "cell_type": "code",
   "execution_count": 22,
   "metadata": {},
   "outputs": [
    {
     "data": {
      "text/html": [
       "<div>\n",
       "<style scoped>\n",
       "    .dataframe tbody tr th:only-of-type {\n",
       "        vertical-align: middle;\n",
       "    }\n",
       "\n",
       "    .dataframe tbody tr th {\n",
       "        vertical-align: top;\n",
       "    }\n",
       "\n",
       "    .dataframe thead th {\n",
       "        text-align: right;\n",
       "    }\n",
       "</style>\n",
       "<table border=\"1\" class=\"dataframe\">\n",
       "  <thead>\n",
       "    <tr style=\"text-align: right;\">\n",
       "      <th></th>\n",
       "      <th>text_type</th>\n",
       "      <th>text</th>\n",
       "    </tr>\n",
       "  </thead>\n",
       "  <tbody>\n",
       "    <tr>\n",
       "      <th>0</th>\n",
       "      <td>shanty</td>\n",
       "      <td>\\n\\nOld Billy Riley was a dancing master.\\nOld...</td>\n",
       "    </tr>\n",
       "    <tr>\n",
       "      <th>1</th>\n",
       "      <td>shanty</td>\n",
       "      <td>\\n\\nMe bonnie bunch o’roses O!\\nCome down, ye ...</td>\n",
       "    </tr>\n",
       "    <tr>\n",
       "      <th>2</th>\n",
       "      <td>shanty</td>\n",
       "      <td>\\n\\nWell, our anchor’s on board and our rags a...</td>\n",
       "    </tr>\n",
       "    <tr>\n",
       "      <th>3</th>\n",
       "      <td>shanty</td>\n",
       "      <td>\\n\\n(Chorus)\\nHelp me, Bob, I'm bully in the a...</td>\n",
       "    </tr>\n",
       "    <tr>\n",
       "      <th>4</th>\n",
       "      <td>shanty</td>\n",
       "      <td>\\n\\nO, my name was Captain Kidd,\\nas I sailed,...</td>\n",
       "    </tr>\n",
       "  </tbody>\n",
       "</table>\n",
       "</div>"
      ],
      "text/plain": [
       "  text_type                                               text\n",
       "0    shanty  \\n\\nOld Billy Riley was a dancing master.\\nOld...\n",
       "1    shanty  \\n\\nMe bonnie bunch o’roses O!\\nCome down, ye ...\n",
       "2    shanty  \\n\\nWell, our anchor’s on board and our rags a...\n",
       "3    shanty  \\n\\n(Chorus)\\nHelp me, Bob, I'm bully in the a...\n",
       "4    shanty  \\n\\nO, my name was Captain Kidd,\\nas I sailed,..."
      ]
     },
     "execution_count": 22,
     "metadata": {},
     "output_type": "execute_result"
    }
   ],
   "source": [
    "df_shanties = pd.DataFrame(\n",
    "    data={\n",
    "        \"text_type\": \"shanty\",\n",
    "        \"text\": shanties\n",
    "    }\n",
    ")\n",
    "\n",
    "df_shanties.head()"
   ]
  },
  {
   "cell_type": "code",
   "execution_count": 23,
   "metadata": {},
   "outputs": [
    {
     "name": "stdout",
     "output_type": "stream",
     "text": [
      "(206, 2)\n"
     ]
    },
    {
     "data": {
      "text/html": [
       "<div>\n",
       "<style scoped>\n",
       "    .dataframe tbody tr th:only-of-type {\n",
       "        vertical-align: middle;\n",
       "    }\n",
       "\n",
       "    .dataframe tbody tr th {\n",
       "        vertical-align: top;\n",
       "    }\n",
       "\n",
       "    .dataframe thead th {\n",
       "        text-align: right;\n",
       "    }\n",
       "</style>\n",
       "<table border=\"1\" class=\"dataframe\">\n",
       "  <thead>\n",
       "    <tr style=\"text-align: right;\">\n",
       "      <th></th>\n",
       "      <th>text_type</th>\n",
       "      <th>text</th>\n",
       "    </tr>\n",
       "  </thead>\n",
       "  <tbody>\n",
       "    <tr>\n",
       "      <th>0</th>\n",
       "      <td>sonnet</td>\n",
       "      <td>\\r\\n  From fairest creatures we desire increas...</td>\n",
       "    </tr>\n",
       "    <tr>\n",
       "      <th>1</th>\n",
       "      <td>sonnet</td>\n",
       "      <td>\\r\\n  When forty winters shall besiege thy bro...</td>\n",
       "    </tr>\n",
       "    <tr>\n",
       "      <th>2</th>\n",
       "      <td>sonnet</td>\n",
       "      <td>\\r\\n  Look in thy glass and tell the face thou...</td>\n",
       "    </tr>\n",
       "    <tr>\n",
       "      <th>3</th>\n",
       "      <td>sonnet</td>\n",
       "      <td>\\r\\n  Unthrifty loveliness, why dost thou spen...</td>\n",
       "    </tr>\n",
       "    <tr>\n",
       "      <th>4</th>\n",
       "      <td>sonnet</td>\n",
       "      <td>\\r\\n  Those hours, that with gentle work did f...</td>\n",
       "    </tr>\n",
       "  </tbody>\n",
       "</table>\n",
       "</div>"
      ],
      "text/plain": [
       "  text_type                                               text\n",
       "0    sonnet  \\r\\n  From fairest creatures we desire increas...\n",
       "1    sonnet  \\r\\n  When forty winters shall besiege thy bro...\n",
       "2    sonnet  \\r\\n  Look in thy glass and tell the face thou...\n",
       "3    sonnet  \\r\\n  Unthrifty loveliness, why dost thou spen...\n",
       "4    sonnet  \\r\\n  Those hours, that with gentle work did f..."
      ]
     },
     "execution_count": 23,
     "metadata": {},
     "output_type": "execute_result"
    }
   ],
   "source": [
    "df = pd.concat([df_sonnets, df_shanties],\n",
    "               axis=0,\n",
    "               ignore_index=True)\n",
    "print(df.shape)\n",
    "df.head()"
   ]
  },
  {
   "cell_type": "code",
   "execution_count": 24,
   "metadata": {},
   "outputs": [
    {
     "data": {
      "text/html": [
       "<div>\n",
       "<style scoped>\n",
       "    .dataframe tbody tr th:only-of-type {\n",
       "        vertical-align: middle;\n",
       "    }\n",
       "\n",
       "    .dataframe tbody tr th {\n",
       "        vertical-align: top;\n",
       "    }\n",
       "\n",
       "    .dataframe thead th {\n",
       "        text-align: right;\n",
       "    }\n",
       "</style>\n",
       "<table border=\"1\" class=\"dataframe\">\n",
       "  <thead>\n",
       "    <tr style=\"text-align: right;\">\n",
       "      <th></th>\n",
       "      <th>text_type</th>\n",
       "      <th>text</th>\n",
       "    </tr>\n",
       "  </thead>\n",
       "  <tbody>\n",
       "    <tr>\n",
       "      <th>201</th>\n",
       "      <td>shanty</td>\n",
       "      <td>\\n\\nThe worst old ship that ever did sail,\\nSa...</td>\n",
       "    </tr>\n",
       "    <tr>\n",
       "      <th>202</th>\n",
       "      <td>shanty</td>\n",
       "      <td>\\n\\nOh, where am I to go, M'Johnnies, oh where...</td>\n",
       "    </tr>\n",
       "    <tr>\n",
       "      <th>203</th>\n",
       "      <td>shanty</td>\n",
       "      <td>\\n\\nWhiskey is the life of man,\\nWhiskey, John...</td>\n",
       "    </tr>\n",
       "    <tr>\n",
       "      <th>204</th>\n",
       "      <td>shanty</td>\n",
       "      <td>\\n\\nAs we were a-fishing off Happisburgh light...</td>\n",
       "    </tr>\n",
       "    <tr>\n",
       "      <th>205</th>\n",
       "      <td>shanty</td>\n",
       "      <td>\\n\\nWe'll heave him up an away we'll go\\n'Way,...</td>\n",
       "    </tr>\n",
       "  </tbody>\n",
       "</table>\n",
       "</div>"
      ],
      "text/plain": [
       "    text_type                                               text\n",
       "201    shanty  \\n\\nThe worst old ship that ever did sail,\\nSa...\n",
       "202    shanty  \\n\\nOh, where am I to go, M'Johnnies, oh where...\n",
       "203    shanty  \\n\\nWhiskey is the life of man,\\nWhiskey, John...\n",
       "204    shanty  \\n\\nAs we were a-fishing off Happisburgh light...\n",
       "205    shanty  \\n\\nWe'll heave him up an away we'll go\\n'Way,..."
      ]
     },
     "execution_count": 24,
     "metadata": {},
     "output_type": "execute_result"
    }
   ],
   "source": [
    "df.tail()"
   ]
  },
  {
   "cell_type": "code",
   "execution_count": 25,
   "metadata": {},
   "outputs": [],
   "source": [
    "df.to_csv(\"sonnet_or_shanty.csv.gz\", index=False)"
   ]
  }
 ],
 "metadata": {
  "kernelspec": {
   "display_name": "Python 3",
   "language": "python",
   "name": "python3"
  },
  "language_info": {
   "codemirror_mode": {
    "name": "ipython",
    "version": 3
   },
   "file_extension": ".py",
   "mimetype": "text/x-python",
   "name": "python",
   "nbconvert_exporter": "python",
   "pygments_lexer": "ipython3",
   "version": "3.8.5"
  }
 },
 "nbformat": 4,
 "nbformat_minor": 4
}
